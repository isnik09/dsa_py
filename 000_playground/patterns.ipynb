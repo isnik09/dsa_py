{
 "cells": [
  {
   "cell_type": "code",
   "execution_count": 37,
   "metadata": {},
   "outputs": [
    {
     "name": "stdout",
     "output_type": "stream",
     "text": [
      " -  -  -  -  -  -  -  - \n",
      " -  -  -  o  o  -  -  - \n",
      " -  -  o  o  o  o  -  - \n",
      " -  o  o  o  o  o  o  - \n",
      " -  o  o  o  o  o  o  - \n",
      " -  -  o  o  o  o  -  - \n",
      " -  -  -  o  o  -  -  - \n",
      " -  -  -  -  -  -  -  - \n"
     ]
    }
   ],
   "source": [
    "n = 4    \n",
    "\n",
    "for i in range(n):\n",
    "    print((n-i) * ' - ' + (2*i) * ' o ' + (n-i) * ' - ' )\n",
    "for i in range(n-1, -1, -1):\n",
    "    print((n-i) * ' - ' + (2*i) * ' o ' + (n-i) * ' - ')"
   ]
  },
  {
   "cell_type": "code",
   "execution_count": 42,
   "metadata": {},
   "outputs": [
    {
     "name": "stdout",
     "output_type": "stream",
     "text": [
      "*        *\n",
      "**      **\n",
      "***    ***\n",
      "****  ****\n",
      "**********\n",
      "**********\n",
      "****  ****\n",
      "***    ***\n",
      "**      **\n",
      "*        *\n"
     ]
    }
   ],
   "source": [
    "limit = 5\n",
    " \n",
    "for i in range(1, limit+1):\n",
    "    print(\"*\"*i, end=\"\")\n",
    "    print(\" \"*(limit-i)*2, end=\"\")\n",
    "    print(\"*\"*i)\n",
    " \n",
    "for i in range(limit,0,-1):\n",
    "    print(\"*\"*i, end=\"\")\n",
    "    print(\" \"*(limit-i)*2, end=\"\")\n",
    "    print(\"*\"*i)    \n"
   ]
  },
  {
   "cell_type": "code",
   "execution_count": 65,
   "metadata": {},
   "outputs": [
    {
     "name": "stdout",
     "output_type": "stream",
     "text": [
      "*        *\n",
      "**      **\n",
      "***    ***\n",
      "****  ****\n",
      "**********\n",
      "****  ****\n",
      "***    ***\n",
      "**      **\n",
      "*        *\n"
     ]
    }
   ],
   "source": [
    "def butterfly_pattern(rows):\n",
    "    top_half = [\n",
    "        f\"{'*' * (i + 1)}{' ' * (2 * (rows - i - 1))}{'*' * (i + 1)}\"\n",
    "        for i in range(rows)\n",
    "    ]\n",
    "    bottom_half = top_half[::-1][1:]  \n",
    "    pattern = top_half + bottom_half\n",
    "    print(\"\\n\".join(pattern))\n",
    "butterfly_pattern(5)"
   ]
  },
  {
   "cell_type": "code",
   "execution_count": null,
   "metadata": {},
   "outputs": [],
   "source": []
  },
  {
   "cell_type": "code",
   "execution_count": null,
   "metadata": {},
   "outputs": [],
   "source": []
  }
 ],
 "metadata": {
  "kernelspec": {
   "display_name": ".venv",
   "language": "python",
   "name": "python3"
  },
  "language_info": {
   "codemirror_mode": {
    "name": "ipython",
    "version": 3
   },
   "file_extension": ".py",
   "mimetype": "text/x-python",
   "name": "python",
   "nbconvert_exporter": "python",
   "pygments_lexer": "ipython3",
   "version": "3.12.3"
  }
 },
 "nbformat": 4,
 "nbformat_minor": 2
}
