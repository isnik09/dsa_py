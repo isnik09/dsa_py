{
 "cells": [
  {
   "cell_type": "markdown",
   "metadata": {},
   "source": [
    "### Question \n",
    "An array is monotonic if it is either monotone increasing or monotone decreasing. An array is monotone increasing if all its elements from left to right are non-decreasing. An array is monotone decreasing if all its elements from left to right are non-increasing. Given an integer array return True if the given array is monotonic, or false otherwise"
   ]
  },
  {
   "cell_type": "markdown",
   "metadata": {},
   "source": [
    "### Clarifying questions\n",
    "- Is an empty array monotonic? \n",
    "  - Yes\n",
    "- Is an array with only 1 integer monotonic?    \n",
    "  - Yes"
   ]
  },
  {
   "cell_type": "markdown",
   "metadata": {},
   "source": [
    "### Test Cases\n",
    "- [1,2,3]\n",
    "  - True\n",
    "- [3,2,1]\n",
    "  - True\n",
    "- [9]\n",
    "  - True\n",
    "- []\n",
    "  - True\n",
    "- [2,2,3,1]\n",
    "  - False"
   ]
  },
  {
   "cell_type": "markdown",
   "metadata": {},
   "source": [
    "### BruteForce \n",
    "- Space Complexity = $O(1)$\n",
    "- Time Complexity = $O(n log n)$"
   ]
  },
  {
   "cell_type": "code",
   "execution_count": 52,
   "metadata": {},
   "outputs": [
    {
     "name": "stdout",
     "output_type": "stream",
     "text": [
      "False\n"
     ]
    }
   ],
   "source": [
    "def monotonic_array(array):\n",
    "    b = array.copy()\n",
    "    if(len(array) == 0): \n",
    "        return True\n",
    "    if(array[0] > array[len(array)-1]): \n",
    "        b.sort()    \n",
    "        b.reverse()\n",
    "        if (array == b):\n",
    "            return True\n",
    "        return False\n",
    "    else: \n",
    "        b.sort()\n",
    "        if(array == b): \n",
    "            return True\n",
    "        return False\n",
    " \n",
    "ans = monotonic_array([3,3,1,1,2])\n",
    "print(ans)        \n",
    "  "
   ]
  },
  {
   "cell_type": "markdown",
   "metadata": {},
   "source": [
    "<!--  -->"
   ]
  },
  {
   "cell_type": "markdown",
   "metadata": {},
   "source": [
    "### Optimized solution \n",
    "- Time Complexity = $O(n)$\n",
    "- Space Complexity = $O(1)$"
   ]
  },
  {
   "cell_type": "code",
   "execution_count": null,
   "metadata": {},
   "outputs": [
    {
     "name": "stdout",
     "output_type": "stream",
     "text": [
      "False\n"
     ]
    }
   ],
   "source": [
    "def monotonic_array(array): \n",
    "    if len(array) == 0 :\n",
    "        return True\n",
    "    \n",
    "    if(array[0] > array[len(array)-1]): \n",
    "        for i in range(len(array)-1): \n",
    "            if(array[i] < array[i+1]): \n",
    "                return False\n",
    "            \n",
    "    elif(array[0] == array[len(array)-1]): \n",
    "        for i in range(len(array)-1): \n",
    "                if(array[i] != array[i+1]): \n",
    "                    return False\n",
    "                \n",
    "    elif(array[0] < array[len(array)-1]): \n",
    "        for i in range(len(array)-1): \n",
    "            if(array[i] > array[i+1]): \n",
    "                return False \n",
    "    else: \n",
    "        return True\n",
    "    \n",
    "    return True\n",
    "    \n",
    "ans = monotonic_array([21,4,2,2,31])\n",
    "print(ans)  "
   ]
  },
  {
   "cell_type": "code",
   "execution_count": null,
   "metadata": {},
   "outputs": [],
   "source": []
  }
 ],
 "metadata": {
  "kernelspec": {
   "display_name": ".venv",
   "language": "python",
   "name": "python3"
  },
  "language_info": {
   "codemirror_mode": {
    "name": "ipython",
    "version": 3
   },
   "file_extension": ".py",
   "mimetype": "text/x-python",
   "name": "python",
   "nbconvert_exporter": "python",
   "pygments_lexer": "ipython3",
   "version": "3.12.3"
  }
 },
 "nbformat": 4,
 "nbformat_minor": 2
}
