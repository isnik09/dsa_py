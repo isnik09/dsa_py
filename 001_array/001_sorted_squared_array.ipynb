{
 "cells": [
  {
   "cell_type": "markdown",
   "metadata": {},
   "source": [
    "### Questions\n",
    "You are given an array of integers in which each subsequent value is not less than the previous value. Write a function that takes this array as an input and returns a new array with the squares of each number sorted in ascending order"
   ]
  },
  {
   "cell_type": "markdown",
   "metadata": {},
   "source": [
    "### Clarifying questions \n",
    "-  Are all numbers are positive? \n",
    "-  Are the Integers distinct? \n",
    "-  Can an empty array of Integers be given as input?\n",
    "   - Yes, then return an empty array. \n"
   ]
  },
  {
   "cell_type": "markdown",
   "metadata": {},
   "source": [
    "### Test Cases\n",
    "- Try to form them together with an interviewer \n",
    "- [1,3,5] => [1,9,25]\n",
    "- [0,5,6] => [0,25,36]\n",
    "- [-4,-2,0,1,3] => [0,1,4,9,16]"
   ]
  },
  {
   "cell_type": "code",
   "execution_count": null,
   "metadata": {},
   "outputs": [],
   "source": [
    "\n"
   ]
  },
  {
   "cell_type": "code",
   "execution_count": 12,
   "metadata": {},
   "outputs": [
    {
     "name": "stdout",
     "output_type": "stream",
     "text": [
      "[0, 1, 4, 9, 16]\n"
     ]
    }
   ],
   "source": [
    "def sorted_array(array): \n",
    "    for i in range(0,len(array)): \n",
    "        # print(i)\n",
    "        array[i] = array[i] ** 2\n",
    "    array.sort()\n",
    "    print(array)\n",
    "\n",
    "sorted_array([-4,-2,0,1,3])"
   ]
  },
  {
   "cell_type": "code",
   "execution_count": null,
   "metadata": {},
   "outputs": [],
   "source": []
  }
 ],
 "metadata": {
  "kernelspec": {
   "display_name": ".venv",
   "language": "python",
   "name": "python3"
  },
  "language_info": {
   "codemirror_mode": {
    "name": "ipython",
    "version": 3
   },
   "file_extension": ".py",
   "mimetype": "text/x-python",
   "name": "python",
   "nbconvert_exporter": "python",
   "pygments_lexer": "ipython3",
   "version": "3.12.3"
  }
 },
 "nbformat": 4,
 "nbformat_minor": 2
}
