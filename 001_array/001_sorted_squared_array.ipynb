{
 "cells": [
  {
   "cell_type": "markdown",
   "metadata": {},
   "source": [
    "### Questions\n",
    "You are given an array of integers in which each subsequent value is not less than the previous value. Write a function that takes this array as an input and returns a new array with the squares of each number sorted in ascending order"
   ]
  },
  {
   "cell_type": "markdown",
   "metadata": {},
   "source": [
    "### Clarifying questions \n",
    "-  Are all numbers are positive? \n",
    "-  Are the Integers distinct? \n",
    "-  Can an empty array of Integers be given as input?\n",
    "   - Yes, then return an empty array. \n"
   ]
  },
  {
   "cell_type": "markdown",
   "metadata": {},
   "source": [
    "### Test Cases\n",
    "- Try to form them together with an interviewer \n",
    "- [1,3,5] => [1,9,25]\n",
    "- [0,5,6] => [0,25,36]\n",
    "- [-4,-2,0,1,3] => [0,1,4,9,16]"
   ]
  },
  {
   "cell_type": "markdown",
   "metadata": {},
   "source": [
    "#### Bruteforce Method, \n",
    "- Time complexity is $O(n log n)$"
   ]
  },
  {
   "cell_type": "code",
   "execution_count": null,
   "metadata": {},
   "outputs": [
    {
     "name": "stdout",
     "output_type": "stream",
     "text": [
      "[0, 1, 4, 9, 16]\n"
     ]
    }
   ],
   "source": [
    "def sorted_array(array): \n",
    "    for i in range(0,len(array)): \n",
    "        array[i] = array[i] ** 2\n",
    "    array.sort()\n",
    "    print(array)\n",
    "\n",
    "sorted_array([-4,-2,0,1,3])"
   ]
  },
  {
   "cell_type": "markdown",
   "metadata": {},
   "source": [
    "### Optimized Solution\n",
    "- Space complexity = $O(n)$\n",
    "- Time complexity = $O(n)$"
   ]
  },
  {
   "cell_type": "code",
   "execution_count": 17,
   "metadata": {},
   "outputs": [
    {
     "name": "stdout",
     "output_type": "stream",
     "text": [
      "[0, 1, 4, 9, 16]\n"
     ]
    }
   ],
   "source": [
    "def sorted_array(array): \n",
    "    n = len(array)\n",
    "    i,j = 0, n-1\n",
    "    res = [0] * n \n",
    "    for k in reversed(range(n)): \n",
    "        if array[i] ** 2 > array[j] ** 2 : \n",
    "            res[k] = array[i] ** 2\n",
    "            i+=1\n",
    "        else :\n",
    "            res[k] = array[j] ** 2\n",
    "            j -= 1\n",
    "    return(res)\n",
    "\n",
    "ans = sorted_array([-4,-2,0,1,3])\n",
    "print(ans)"
   ]
  },
  {
   "cell_type": "code",
   "execution_count": null,
   "metadata": {},
   "outputs": [],
   "source": []
  }
 ],
 "metadata": {
  "kernelspec": {
   "display_name": ".venv",
   "language": "python",
   "name": "python3"
  },
  "language_info": {
   "codemirror_mode": {
    "name": "ipython",
    "version": 3
   },
   "file_extension": ".py",
   "mimetype": "text/x-python",
   "name": "python",
   "nbconvert_exporter": "python",
   "pygments_lexer": "ipython3",
   "version": "3.12.3"
  }
 },
 "nbformat": 4,
 "nbformat_minor": 2
}
