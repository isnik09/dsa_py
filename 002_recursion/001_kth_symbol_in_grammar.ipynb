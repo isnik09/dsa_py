{
 "cells": [
  {
   "cell_type": "markdown",
   "metadata": {},
   "source": [
    "# K-th Symbol in Grammar"
   ]
  },
  {
   "cell_type": "markdown",
   "metadata": {},
   "source": [
    "### Question \n",
    "We build a table of n rows (1-indexed). We start by writing 0 in 1st row. Now in every subsequent row, we look at the previous row and replace each occurrence of 0 with 01, and each occurrence of 1 with 10. For example, for $n = 3$ the 1st row is 0, the 2nd row is 01, and the third row is 0110. Given two integer n and k, return the kth (1-indexed) symbol in the nth row of a table of n rows. "
   ]
  },
  {
   "cell_type": "markdown",
   "metadata": {},
   "source": [
    "### Clarifying questions\n",
    "\n",
    "- Is it possible that n is given as 0 \n",
    "  - No\n",
    "- Can k be out of bound? For eg, if n = 3, there will be 4 numbers, can k be given as 5?\n",
    "  - No"
   ]
  },
  {
   "cell_type": "markdown",
   "metadata": {},
   "source": [
    "### Test cases\n",
    "- 0  \n",
    "- 0 1\n",
    "- 0 1 1 0\n",
    "- 0 1 1 0 1 0 0 1\n"
   ]
  },
  {
   "cell_type": "code",
   "execution_count": null,
   "metadata": {},
   "outputs": [],
   "source": []
  }
 ],
 "metadata": {
  "kernelspec": {
   "display_name": ".venv",
   "language": "python",
   "name": "python3"
  },
  "language_info": {
   "name": "python",
   "version": "3.12.3"
  }
 },
 "nbformat": 4,
 "nbformat_minor": 2
}
