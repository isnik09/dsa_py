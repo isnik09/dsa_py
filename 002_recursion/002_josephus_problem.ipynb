{
 "cells": [
  {
   "cell_type": "markdown",
   "metadata": {},
   "source": [
    "### Question \n",
    "There are n friends that are playing a game. The friends are sitting in a circle and are numbered form 1 to n in clockwise order. More formally, moving clockwise from the ith friend brings you to the (i+1)th friend for $1 < = i < n$, and moving clockwise from the nth friend brings you to the 1st friend. \n",
    "The rules of the game are as follows : \n",
    "- 1. Start at the 1st friend \n",
    "- 2. Count next k friends in the clockwise direction including the friend you start at. The counting wraps around the circle and may count some friends more than once. \n",
    "- 3. The last friend you counted leaves the circle and loses the game. \n",
    "- 4. If there is still more than one friend in the circle, go back to step 2 starting from the friend immediately clockwise of the friend who just lost and repeat. \n",
    "- 5. Else, the last friend in the circle wins the game. \n",
    "\n",
    "Given the number of friends, n and an integer k, return the winner of the game. "
   ]
  },
  {
   "cell_type": "markdown",
   "metadata": {},
   "source": [
    "### Story time...\n",
    "In 67 C.E. Josephus and 40 fellow soldiers were surrounded by a group of Roman soldiers who were intent on capturing them. Fearing the capture, they decided that they would kill themselves instead and whilst Josephus did not agree with this proposal, he was afraid to disagree. \n",
    "\n",
    "\n"
   ]
  },
  {
   "cell_type": "markdown",
   "metadata": {},
   "source": [
    "### Approach 1"
   ]
  },
  {
   "cell_type": "markdown",
   "metadata": {},
   "source": [
    "### Complexity \n",
    "- Time Complexity = $O(n)^2$\n",
    "- Space Complexity = $O(n)$"
   ]
  },
  {
   "cell_type": "code",
   "execution_count": 1,
   "metadata": {},
   "outputs": [],
   "source": [
    "def find_the_winner(n , k): \n",
    "    arr = [ i + 1 for i in range(n)]\n",
    "    def helper(arr , start_index): \n",
    "        # base case\n",
    "        if len(arr) == 1: \n",
    "            return arr[0]\n",
    "        # recursive case \n",
    "        index_to_remove = (start_index + k - 1) % len(arr)\n",
    "        del arr[index_to_remove]\n",
    "        return helper(arr, index_to_remove)\n",
    "    return helper(arr,0)"
   ]
  },
  {
   "cell_type": "code",
   "execution_count": 3,
   "metadata": {},
   "outputs": [
    {
     "name": "stdout",
     "output_type": "stream",
     "text": [
      "1\n"
     ]
    }
   ],
   "source": [
    "a = find_the_winner(12,4)\n",
    "print(a)"
   ]
  },
  {
   "cell_type": "markdown",
   "metadata": {},
   "source": [
    "### Approach 2"
   ]
  },
  {
   "cell_type": "markdown",
   "metadata": {},
   "source": [
    "### Complexity \n",
    "- Time Complexity = $O(n)$\n",
    "- Space Complexity = $O(n)$"
   ]
  },
  {
   "cell_type": "code",
   "execution_count": 6,
   "metadata": {},
   "outputs": [],
   "source": [
    "def find_the_winner(n,k): \n",
    "    arr  = [i + 1 for i in range(n)]\n",
    "    def helper(n):\n",
    "        if n == 1 : return 0\n",
    "        # recursive case\n",
    "        return (helper(n-1)+k) % n\n",
    "    return helper(n) + 1"
   ]
  },
  {
   "cell_type": "code",
   "execution_count": 7,
   "metadata": {},
   "outputs": [
    {
     "name": "stdout",
     "output_type": "stream",
     "text": [
      "1\n"
     ]
    }
   ],
   "source": [
    "a = find_the_winner(12,4)\n",
    "print(a)"
   ]
  },
  {
   "cell_type": "markdown",
   "metadata": {},
   "source": [
    "### Approach 3 ==> Iterative Approach"
   ]
  },
  {
   "cell_type": "markdown",
   "metadata": {},
   "source": [
    "### Complexity \n",
    "- Time Complexity = $O(n)$\n",
    "- Space Complexity = $O(1)$"
   ]
  },
  {
   "cell_type": "code",
   "execution_count": 8,
   "metadata": {},
   "outputs": [],
   "source": [
    "def find_the_winner(n,k): \n",
    "    safe_position = 0 \n",
    "    for i in range(2, n+1): \n",
    "        safe_position = (safe_position + k) % i\n",
    "    return safe_position + 1"
   ]
  },
  {
   "cell_type": "code",
   "execution_count": 9,
   "metadata": {},
   "outputs": [
    {
     "name": "stdout",
     "output_type": "stream",
     "text": [
      "1\n"
     ]
    }
   ],
   "source": [
    "a = find_the_winner(12,4)\n",
    "print(a)"
   ]
  },
  {
   "cell_type": "code",
   "execution_count": null,
   "metadata": {},
   "outputs": [],
   "source": []
  }
 ],
 "metadata": {
  "kernelspec": {
   "display_name": ".venv",
   "language": "python",
   "name": "python3"
  },
  "language_info": {
   "codemirror_mode": {
    "name": "ipython",
    "version": 3
   },
   "file_extension": ".py",
   "mimetype": "text/x-python",
   "name": "python",
   "nbconvert_exporter": "python",
   "pygments_lexer": "ipython3",
   "version": "3.12.3"
  }
 },
 "nbformat": 4,
 "nbformat_minor": 2
}
