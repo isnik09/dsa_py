{
 "cells": [
  {
   "cell_type": "markdown",
   "metadata": {},
   "source": [
    "### Tower of Hanoi - (MED) \n",
    "We have three rods and N disks. The objective of the puzzle is to move the entire stack to another rod. Initially, these discs are in the rod 1. You need to print all the steps of discs movement so that all the discs reach the 3rd rod. Also, find and return the total moves. Note : The discs are arranged such that the top disc is numbered 1 and the bottom-most disc is numbered N. Also all the disc have different sizes and a bigger disc cannot be put on the top of a smaller disc. You can only move 1 disc at a time"
   ]
  },
  {
   "cell_type": "markdown",
   "metadata": {},
   "source": [
    "### Complexity \n",
    "- Time Complexity = $O(2^n)$\n",
    "- Space Complexity = $O(n)$"
   ]
  },
  {
   "cell_type": "code",
   "execution_count": 4,
   "metadata": {},
   "outputs": [
    {
     "name": "stdout",
     "output_type": "stream",
     "text": [
      "Move disk 1 from rod 3 to rod 3\n",
      "Move disk 2 from rod 3 to rod 3\n",
      "Move disk 1 from rod 3 to rod 3\n",
      "Move disk 3 from rod 3 to rod 3\n",
      "Move disk 1 from rod 3 to rod 3\n",
      "Move disk 2 from rod 3 to rod 3\n",
      "Move disk 1 from rod 3 to rod 3\n",
      "7\n"
     ]
    }
   ],
   "source": [
    "def tower_of_hanoi(N,fromm, to, aux):\n",
    "    count = 0 \n",
    "    def helper(N, fromm, to , aux): \n",
    "        nonlocal count\n",
    "        # base case\n",
    "        if N == 1: \n",
    "            print(\"Move disk \" + str(N) + \" from rod \" +str(fromm) + \" to rod \"+ str(to))\n",
    "            count += 1 \n",
    "            return\n",
    "        # recursive case\n",
    "        helper(N-1,fromm , aux , to)\n",
    "        print(\"Move disk \" + str(N) + \" from rod \" +str(fromm) + \" to rod \"+ str(to))\n",
    "        count+=1\n",
    "        helper(N-1, aux, to, fromm)\n",
    "    helper(N, fromm, to, aux)\n",
    "    print(count)\n",
    "\n",
    "a = tower_of_hanoi(3,3,3,3)"
   ]
  },
  {
   "cell_type": "code",
   "execution_count": null,
   "metadata": {},
   "outputs": [],
   "source": []
  }
 ],
 "metadata": {
  "kernelspec": {
   "display_name": ".venv",
   "language": "python",
   "name": "python3"
  },
  "language_info": {
   "codemirror_mode": {
    "name": "ipython",
    "version": 3
   },
   "file_extension": ".py",
   "mimetype": "text/x-python",
   "name": "python",
   "nbconvert_exporter": "python",
   "pygments_lexer": "ipython3",
   "version": "3.12.3"
  }
 },
 "nbformat": 4,
 "nbformat_minor": 2
}
