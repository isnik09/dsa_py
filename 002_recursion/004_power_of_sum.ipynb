{
 "cells": [
  {
   "cell_type": "markdown",
   "metadata": {},
   "source": [
    "### Power of Sum \n",
    "Let's define a particular type of array in which each element is either an integer or another peculiar array. Assume that a peculiar array is never empty. Write a function that will take a peculiar array as its input and find the sum of its elements. If an array is an element in peculiar array you have to convert it to it's equivalent value so that you can sum it with the other elements. Equivalent value of an array is the sum of its elements raised to the number which represents how far nested it is. \n",
    "\n",
    "For eg. \n",
    "- $[2,3,[4,1,2]] = 2 + 3 + (4+1+2)^2$\n",
    "- $[1,2,[7,[3,4],2]] = 1 + 2 + (7 + (3+4) ^3 + 2 )^2$"
   ]
  },
  {
   "cell_type": "code",
   "execution_count": 2,
   "metadata": {},
   "outputs": [
    {
     "name": "stdout",
     "output_type": "stream",
     "text": [
      "11\n"
     ]
    }
   ],
   "source": [
    "def power_sum(array, power = 1): \n",
    "    sum = 0 \n",
    "    for i in array: \n",
    "        if type(i) == list: \n",
    "            sum+= power_sum(i, power+1)\n",
    "        else: \n",
    "            sum +=1\n",
    "    return sum**power\n",
    "\n",
    "print(power_sum([1,2,[3,4,[[2]]]]))"
   ]
  },
  {
   "cell_type": "code",
   "execution_count": null,
   "metadata": {},
   "outputs": [],
   "source": []
  }
 ],
 "metadata": {
  "kernelspec": {
   "display_name": ".venv",
   "language": "python",
   "name": "python3"
  },
  "language_info": {
   "codemirror_mode": {
    "name": "ipython",
    "version": 3
   },
   "file_extension": ".py",
   "mimetype": "text/x-python",
   "name": "python",
   "nbconvert_exporter": "python",
   "pygments_lexer": "ipython3",
   "version": "3.12.3"
  }
 },
 "nbformat": 4,
 "nbformat_minor": 2
}
