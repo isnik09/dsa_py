{
 "cells": [
  {
   "cell_type": "markdown",
   "metadata": {},
   "source": [
    "# Combinations \n",
    "Given two integers n and k, return all possible combinations of k numbers chosen from the range [1,n]. \n",
    "You may return answer in any order."
   ]
  },
  {
   "cell_type": "markdown",
   "metadata": {},
   "source": [
    "# Test cases\n",
    "- n = 4, k = 2\n",
    "  - [ [1,2], [1,3], [1,4], [2,3], [2,4], [3,4]]"
   ]
  },
  {
   "cell_type": "markdown",
   "metadata": {},
   "source": [
    "# Complexity\n",
    "- Time Complexity\n",
    "  - $T = O(k\\frac{n!}{k!(n-k)!})$\n",
    "\n",
    "- Space Complexity\n",
    "  - $S = O(k)$"
   ]
  },
  {
   "cell_type": "code",
   "execution_count": 8,
   "metadata": {},
   "outputs": [],
   "source": [
    "def combine(n,k): \n",
    "    results = []\n",
    "    def helper(start, current): \n",
    "        if len(current)== k: \n",
    "            results.append(current[:])\n",
    "            return\n",
    "        need = k - len(current)\n",
    "\n",
    "        for j in range(start, n-(need-1) + 1): \n",
    "            current.append(j)\n",
    "            helper(j+1, current)\n",
    "            current.pop()            \n",
    "    helper(1,[])\n",
    "    return results"
   ]
  }
 ],
 "metadata": {
  "kernelspec": {
   "display_name": ".venv",
   "language": "python",
   "name": "python3"
  },
  "language_info": {
   "codemirror_mode": {
    "name": "ipython",
    "version": 3
   },
   "file_extension": ".py",
   "mimetype": "text/x-python",
   "name": "python",
   "nbconvert_exporter": "python",
   "pygments_lexer": "ipython3",
   "version": "3.12.3"
  }
 },
 "nbformat": 4,
 "nbformat_minor": 2
}
