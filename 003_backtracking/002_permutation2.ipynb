{
 "cells": [
  {
   "cell_type": "markdown",
   "metadata": {},
   "source": [
    "# Permutation 2 \n",
    "Given a collection of numbers `nums`, that might contain duplicates, return all possible unique permutations ***in any order***.\n",
    "\n",
    "# Test Cases \n",
    "- nums = [3,3,2]\n",
    "- [[3,3,2],[3,2,3],[2,3,3]]"
   ]
  },
  {
   "cell_type": "code",
   "execution_count": null,
   "metadata": {},
   "outputs": [],
   "source": [
    "def permute_unique(nums): \n",
    "    res = [ ]\n",
    "    def helper(i): \n",
    "        # base case\n",
    "        if i == len(nums) - 1: \n",
    "            res.append(nums[:])\n",
    "            return\n",
    "        # recursive case\n",
    "        hash = {}\n",
    "        for j in range(i, len(nums)): \n",
    "            if nums[j] not in hash:\n",
    "                hash[nums[j]] = True \n",
    "                nums[i],nums[j] = nums[j], nums[i]\n",
    "                helper(i+1)\n",
    "                nums[i], nums[j] = nums[j], nums[i]\n",
    "    \n",
    "    helper(0)\n",
    "    return res"
   ]
  }
 ],
 "metadata": {
  "kernelspec": {
   "display_name": ".venv",
   "language": "python",
   "name": "python3"
  },
  "language_info": {
   "name": "python",
   "version": "3.12.3"
  }
 },
 "nbformat": 4,
 "nbformat_minor": 2
}
