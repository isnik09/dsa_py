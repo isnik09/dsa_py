{
    "cells": [
        {
            "cell_type": "markdown",
            "metadata": {},
            "source": [
                "# Combination sum 2 \n",
                "Given a collection of candidate numbers (candidates) and a target number (target), find all unique combinations in candidates where the candidate numbers sum to target. \n",
                "Each number in candidates may only be used once in the combination. \n",
                "\n",
                "Note : The solution set must not contain duplicate combinations "
            ]
        },
        {
            "cell_type": "markdown",
            "metadata": {},
            "source": [
                "# Test Case\n",
                "- Input = [3,5,2,1,3], Target = 7\n",
                "  - Output = [[1,3,3], [5,2]]"
            ]
        },
        {
            "cell_type": "markdown",
            "metadata": {},
            "source": [
                "# Complexity \n",
                "- Time Complexity\n",
                "  - $O(n^2)$\n",
                "- Space Complexity \n",
                "  - $O(n)$"
            ]
        },
        {
            "cell_type": "code",
            "execution_count": null,
            "metadata": {},
            "outputs": [],
            "source": [
                "def combination_sum(candidates, target): \n",
                "    candidates.sort()\n",
                "    res = [] \n",
                "    n = len(candidates)\n",
                "    def helper(index, curr, curr_sum): \n",
                "        # base\n",
                "        if curr_sum == target: \n",
                "            res.append(curr[:])\n",
                "            return\n",
                "        if curr_sum > target: \n",
                "            return\n",
                "        if index > n-1 : \n",
                "            return\n",
                "        \n",
                "        # recursive case\n",
                "        hash = {}\n",
                "        for i in range(index, n): \n",
                "            if candidates[i] not in hash:\n",
                "                hash[candidates[i]]=True\n",
                "                curr.append(candidates[i])\n",
                "                helper(i+1, curr, curr_sum+candidates[i])\n",
                "                curr.pop()\n",
                "    helper(0,[],0)\n",
                "    return res"
            ]
        },
        {
            "cell_type": "code",
            "execution_count": null,
            "metadata": {},
            "outputs": [],
            "source": []
        }
    ],
    "metadata": {
        "kernelspec": {
            "display_name": ".venv",
            "language": "python",
            "name": "python3"
        },
        "language_info": {
            "codemirror_mode": {
                "name": "ipython",
                "version": 3
            },
            "file_extension": ".py",
            "mimetype": "text/x-python",
            "name": "python",
            "nbconvert_exporter": "python",
            "pygments_lexer": "ipython3",
            "version": "3.12.3"
        }
    },
    "nbformat": 4,
    "nbformat_minor": 2
}
