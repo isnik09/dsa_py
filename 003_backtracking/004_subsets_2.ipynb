{
 "cells": [
  {
   "cell_type": "markdown",
   "metadata": {},
   "source": [
    "# Subsets\n",
    "Given an integer array `nums` that may contain duplicates, return all possible subsets. \n",
    "The solution  **must not** contain duplicate subsets. Return all possible solutions in **any order** \n",
    "\n",
    "- Example\n",
    "  - nums = [1,3,3]\n",
    "  - Output = [[], [1],[3], [1,3], [3,3], [1,3,3]]"
   ]
  },
  {
   "cell_type": "code",
   "execution_count": null,
   "metadata": {},
   "outputs": [
    {
     "ename": "AttributeError",
     "evalue": "'int' object has no attribute 'append'",
     "output_type": "error",
     "traceback": [
      "\u001b[31m---------------------------------------------------------------------------\u001b[39m",
      "\u001b[31mAttributeError\u001b[39m                            Traceback (most recent call last)",
      "\u001b[36mCell\u001b[39m\u001b[36m \u001b[39m\u001b[32mIn[5]\u001b[39m\u001b[32m, line 19\u001b[39m\n\u001b[32m     17\u001b[39m     helper(\u001b[32m0\u001b[39m,[])\n\u001b[32m     18\u001b[39m     \u001b[38;5;28;01mreturn\u001b[39;00m res\n\u001b[32m---> \u001b[39m\u001b[32m19\u001b[39m \u001b[38;5;28mprint\u001b[39m(\u001b[43munique_subsets\u001b[49m\u001b[43m(\u001b[49m\u001b[43m[\u001b[49m\u001b[32;43m1\u001b[39;49m\u001b[43m,\u001b[49m\u001b[32;43m3\u001b[39;49m\u001b[43m,\u001b[49m\u001b[32;43m3\u001b[39;49m\u001b[43m]\u001b[49m\u001b[43m)\u001b[49m)\n",
      "\u001b[36mCell\u001b[39m\u001b[36m \u001b[39m\u001b[32mIn[5]\u001b[39m\u001b[32m, line 17\u001b[39m, in \u001b[36munique_subsets\u001b[39m\u001b[34m(nums)\u001b[39m\n\u001b[32m     15\u001b[39m         i+=\u001b[32m1\u001b[39m\n\u001b[32m     16\u001b[39m     helper(current ,i+\u001b[32m1\u001b[39m)\n\u001b[32m---> \u001b[39m\u001b[32m17\u001b[39m \u001b[43mhelper\u001b[49m\u001b[43m(\u001b[49m\u001b[32;43m0\u001b[39;49m\u001b[43m,\u001b[49m\u001b[43m[\u001b[49m\u001b[43m]\u001b[49m\u001b[43m)\u001b[49m\n\u001b[32m     18\u001b[39m \u001b[38;5;28;01mreturn\u001b[39;00m res\n",
      "\u001b[36mCell\u001b[39m\u001b[36m \u001b[39m\u001b[32mIn[5]\u001b[39m\u001b[32m, line 10\u001b[39m, in \u001b[36munique_subsets.<locals>.helper\u001b[39m\u001b[34m(i, current)\u001b[39m\n\u001b[32m      8\u001b[39m \u001b[38;5;66;03m# include\u001b[39;00m\n\u001b[32m      9\u001b[39m current.append(nums[i])\n\u001b[32m---> \u001b[39m\u001b[32m10\u001b[39m \u001b[43mhelper\u001b[49m\u001b[43m(\u001b[49m\u001b[43mi\u001b[49m\u001b[43m+\u001b[49m\u001b[32;43m1\u001b[39;49m\u001b[43m,\u001b[49m\u001b[43m \u001b[49m\u001b[43mcurrent\u001b[49m\u001b[43m)\u001b[49m\n\u001b[32m     11\u001b[39m current.pop \u001b[38;5;66;03m# backtracking \u001b[39;00m\n\u001b[32m     13\u001b[39m \u001b[38;5;66;03m# exclude \u001b[39;00m\n",
      "\u001b[36mCell\u001b[39m\u001b[36m \u001b[39m\u001b[32mIn[5]\u001b[39m\u001b[32m, line 10\u001b[39m, in \u001b[36munique_subsets.<locals>.helper\u001b[39m\u001b[34m(i, current)\u001b[39m\n\u001b[32m      8\u001b[39m \u001b[38;5;66;03m# include\u001b[39;00m\n\u001b[32m      9\u001b[39m current.append(nums[i])\n\u001b[32m---> \u001b[39m\u001b[32m10\u001b[39m \u001b[43mhelper\u001b[49m\u001b[43m(\u001b[49m\u001b[43mi\u001b[49m\u001b[43m+\u001b[49m\u001b[32;43m1\u001b[39;49m\u001b[43m,\u001b[49m\u001b[43m \u001b[49m\u001b[43mcurrent\u001b[49m\u001b[43m)\u001b[49m\n\u001b[32m     11\u001b[39m current.pop \u001b[38;5;66;03m# backtracking \u001b[39;00m\n\u001b[32m     13\u001b[39m \u001b[38;5;66;03m# exclude \u001b[39;00m\n",
      "\u001b[36mCell\u001b[39m\u001b[36m \u001b[39m\u001b[32mIn[5]\u001b[39m\u001b[32m, line 16\u001b[39m, in \u001b[36munique_subsets.<locals>.helper\u001b[39m\u001b[34m(i, current)\u001b[39m\n\u001b[32m     14\u001b[39m \u001b[38;5;28;01mwhile\u001b[39;00m i < \u001b[38;5;28mlen\u001b[39m(nums) - \u001b[32m1\u001b[39m \u001b[38;5;129;01mand\u001b[39;00m nums[i] == nums[i+\u001b[32m1\u001b[39m]: \n\u001b[32m     15\u001b[39m     i+=\u001b[32m1\u001b[39m\n\u001b[32m---> \u001b[39m\u001b[32m16\u001b[39m \u001b[43mhelper\u001b[49m\u001b[43m(\u001b[49m\u001b[43mcurrent\u001b[49m\u001b[43m \u001b[49m\u001b[43m,\u001b[49m\u001b[43mi\u001b[49m\u001b[43m+\u001b[49m\u001b[32;43m1\u001b[39;49m\u001b[43m)\u001b[49m\n",
      "\u001b[36mCell\u001b[39m\u001b[36m \u001b[39m\u001b[32mIn[5]\u001b[39m\u001b[32m, line 9\u001b[39m, in \u001b[36munique_subsets.<locals>.helper\u001b[39m\u001b[34m(i, current)\u001b[39m\n\u001b[32m      7\u001b[39m     \u001b[38;5;28;01mreturn\u001b[39;00m\n\u001b[32m      8\u001b[39m \u001b[38;5;66;03m# include\u001b[39;00m\n\u001b[32m----> \u001b[39m\u001b[32m9\u001b[39m \u001b[43mcurrent\u001b[49m\u001b[43m.\u001b[49m\u001b[43mappend\u001b[49m(nums[i])\n\u001b[32m     10\u001b[39m helper(i+\u001b[32m1\u001b[39m, current)\n\u001b[32m     11\u001b[39m current.pop \u001b[38;5;66;03m# backtracking \u001b[39;00m\n",
      "\u001b[31mAttributeError\u001b[39m: 'int' object has no attribute 'append'"
     ]
    }
   ],
   "source": [
    "def unique_subsets(nums): \n",
    "    res= []\n",
    "    def helper(i, current): \n",
    "        # base case\n",
    "        if i == len(nums): \n",
    "            res.append(current[:])\n",
    "            return\n",
    "        # include\n",
    "        current.append(nums[i])\n",
    "        helper(i+1, current)\n",
    "        current.pop # backtracking \n",
    "\n",
    "        # exclude \n",
    "        while i < len(nums) - 1 and nums[i] == nums[i+1]: \n",
    "            i+=1\n",
    "        helper(i+1)\n",
    "    helper(0,[])\n",
    "    return res\n",
    "print(unique_subsets([1,3,3]))"
   ]
  },
  {
   "cell_type": "code",
   "execution_count": null,
   "metadata": {},
   "outputs": [],
   "source": []
  }
 ],
 "metadata": {
  "kernelspec": {
   "display_name": ".venv",
   "language": "python",
   "name": "python3"
  },
  "language_info": {
   "codemirror_mode": {
    "name": "ipython",
    "version": 3
   },
   "file_extension": ".py",
   "mimetype": "text/x-python",
   "name": "python",
   "nbconvert_exporter": "python",
   "pygments_lexer": "ipython3",
   "version": "3.12.3"
  }
 },
 "nbformat": 4,
 "nbformat_minor": 2
}
