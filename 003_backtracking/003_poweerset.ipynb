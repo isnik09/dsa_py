{
 "cells": [
  {
   "cell_type": "markdown",
   "metadata": {},
   "source": [
    "# Powerset\n",
    "Given an integer array of unique elements, return all possible subsets (the power set). The solution set must not contain duplicate subsets. Return the solution in any order"
   ]
  },
  {
   "cell_type": "markdown",
   "metadata": {},
   "source": [
    "# Test cases\n",
    "- [1,2,3]\n",
    "  -  [\n",
    "        [], [1], [2], [3], [1,2], [2,3], [1,2,3]\n",
    "    ]"
   ]
  },
  {
   "cell_type": "markdown",
   "metadata": {},
   "source": [
    "# Complexity \n",
    "- Time Complexity\n",
    "  - $O(n*2^n)$\n",
    "- Space Complexity\n",
    "  - $O(n)$"
   ]
  },
  {
   "cell_type": "code",
   "execution_count": null,
   "metadata": {},
   "outputs": [
    {
     "name": "stdout",
     "output_type": "stream",
     "text": [
      "[[], [7], [8], [8, 7], [1], [1, 7], [1, 8], [1, 8, 7]]\n"
     ]
    }
   ],
   "source": [
    "def power_set(nums): \n",
    "    output = []\n",
    "\n",
    "    def helper(nums , i, subset):\n",
    "        if i == len(nums): \n",
    "            output.append(subset.copy())\n",
    "            return\n",
    "        helper(nums, i+1, subset)\n",
    "        subset.append(nums[i])\n",
    "        helper(nums, i+1, subset)\n",
    "        subset.pop()\n",
    "    helper(nums , 0, [])\n",
    "    return output\n",
    "\n",
    "print(power_set([1,8,7]))   "
   ]
  },
  {
   "cell_type": "code",
   "execution_count": null,
   "metadata": {},
   "outputs": [],
   "source": []
  }
 ],
 "metadata": {
  "kernelspec": {
   "display_name": ".venv",
   "language": "python",
   "name": "python3"
  },
  "language_info": {
   "codemirror_mode": {
    "name": "ipython",
    "version": 3
   },
   "file_extension": ".py",
   "mimetype": "text/x-python",
   "name": "python",
   "nbconvert_exporter": "python",
   "pygments_lexer": "ipython3",
   "version": "3.12.3"
  }
 },
 "nbformat": 4,
 "nbformat_minor": 2
}
