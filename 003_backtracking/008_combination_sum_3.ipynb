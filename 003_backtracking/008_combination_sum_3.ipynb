{
 "cells": [
  {
   "cell_type": "markdown",
   "metadata": {},
   "source": [
    "# Combinations Sum 3 \n",
    "Find all combinations of k numbers that sum up to n such that the following conditions are true : \n",
    "- Only numbers 1 through 9 are used.\n",
    "- Each number is used at most once. \n",
    "Return a list of all positive valid combinations. The list must not contain the same combination twice, and the combinations may be returned in any order. "
   ]
  },
  {
   "cell_type": "code",
   "execution_count": 1,
   "metadata": {},
   "outputs": [],
   "source": [
    "def combination_sum(k,n): \n",
    "    res= [ ]\n",
    "    def backtrack(number, curr, curr_sum): \n",
    "        if curr_sum == n and len(curr)==k: \n",
    "            res.append(curr[:])\n",
    "            return\n",
    "        if curr_sum > n or len(curr) == k: \n",
    "            return \n",
    "        for x in range(number, 10): \n",
    "            curr.append(x)\n",
    "            backtrack(x+1, curr, curr_sum + x)\n",
    "            curr.pop()\n",
    "    backtrack(1,[], 0)\n",
    "    return res"
   ]
  },
  {
   "cell_type": "code",
   "execution_count": null,
   "metadata": {},
   "outputs": [],
   "source": []
  }
 ],
 "metadata": {
  "kernelspec": {
   "display_name": ".venv",
   "language": "python",
   "name": "python3"
  },
  "language_info": {
   "codemirror_mode": {
    "name": "ipython",
    "version": 3
   },
   "file_extension": ".py",
   "mimetype": "text/x-python",
   "name": "python",
   "nbconvert_exporter": "python",
   "pygments_lexer": "ipython3",
   "version": "3.12.3"
  }
 },
 "nbformat": 4,
 "nbformat_minor": 2
}
