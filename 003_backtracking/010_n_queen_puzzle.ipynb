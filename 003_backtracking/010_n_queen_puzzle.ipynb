{
 "cells": [
  {
   "cell_type": "markdown",
   "metadata": {},
   "source": [
    "# Question\n",
    "The n-queen puzzle is the problem of placing `n` queens on `nxn` chessboard such that no two queens attack each other. \n",
    "\n",
    "Given an integer `n`, return all distinct solutions to the ***n-queens puzzle*** you may return the answer in any order. \n",
    "\n",
    "Each solution contains a distinct board configuration of the n-queens' placement, where `Q` and `-` both indicates a queen and empty space, respectively. "
   ]
  },
  {
   "cell_type": "markdown",
   "metadata": {},
   "source": [
    "# Complexity \n",
    "- Time Complexity\n",
    "  - $O(n!)$\n",
    "- Space Complexity\n",
    "  - $O(n^2)$"
   ]
  },
  {
   "cell_type": "code",
   "execution_count": null,
   "metadata": {},
   "outputs": [
    {
     "name": "stdout",
     "output_type": "stream",
     "text": [
      "[['--Q----', '------Q', 'Q------', '----Q--'], ['--Q----', '------Q', '----Q--', 'Q------'], ['----Q--', 'Q------', '------Q', '--Q----'], ['----Q--', '--Q----', '------Q', 'Q------'], ['------Q', 'Q------', '----Q--', '--Q----'], ['------Q', '--Q----', 'Q------', '----Q--'], ['------Q', '----Q--', '--Q----', 'Q------']]\n"
     ]
    }
   ],
   "source": [
    "def n_queens(n): \n",
    "    res = []\n",
    "    board = [['-']*n for _ in range(n)]\n",
    "    def convert_board(board): \n",
    "        return['-'.join(row) for row in board]\n",
    "\n",
    "    def is_valid(row, col, board): \n",
    "        # col check \n",
    "        for x in range(row): \n",
    "            if board[x][col] == 'Q' : return False\n",
    "        # top left diagonal\n",
    "        for r,c in zip(range(row,-1,-1), range(col,-1,-1)): \n",
    "            if board[r][c]=='Q' : return False\n",
    "        # top right diagonal\n",
    "        for r,c in zip(range(row,-1,-1), range(col,n,n+1)): \n",
    "            if board[r][c] == 'Q' : return False\n",
    "        return True\n",
    "    \n",
    "    def position_next_queen(board, row): \n",
    "        if row ==n: \n",
    "            res.append(convert_board(board))\n",
    "            return\n",
    "        for col in range(n): \n",
    "            if is_valid(row, col, board): \n",
    "                board[row][col] ='Q'\n",
    "                position_next_queen(board,row+1)\n",
    "                board[row][col] = '-'\n",
    "    position_next_queen(board, 0)\n",
    "    return res\n",
    "\n",
    "print(n_queens(4))"
   ]
  },
  {
   "cell_type": "code",
   "execution_count": null,
   "metadata": {},
   "outputs": [],
   "source": []
  }
 ],
 "metadata": {
  "kernelspec": {
   "display_name": ".venv",
   "language": "python",
   "name": "python3"
  },
  "language_info": {
   "codemirror_mode": {
    "name": "ipython",
    "version": 3
   },
   "file_extension": ".py",
   "mimetype": "text/x-python",
   "name": "python",
   "nbconvert_exporter": "python",
   "pygments_lexer": "ipython3",
   "version": "3.12.3"
  }
 },
 "nbformat": 4,
 "nbformat_minor": 2
}
