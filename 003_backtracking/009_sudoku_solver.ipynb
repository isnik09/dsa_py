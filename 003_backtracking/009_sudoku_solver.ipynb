{
 "cells": [
  {
   "cell_type": "markdown",
   "metadata": {},
   "source": [
    "# Sudoku Solver\n",
    "Write a program to solve a Sudoku puzzle by filling the empty cells. A sudoku solution must satisfy all following rules \n",
    "- 1. Each of the digits `1-9` must occur exactly once in each row. \n",
    "- 2. Each of the digits `1-9` must occur exactly once in each column. \n",
    "- 3. Each of the digits `1-9` must occur exactly once in each of the 9 `3X3` sub-boxes of the grid. \n",
    "The character `.` indicates empty cells"
   ]
  },
  {
   "cell_type": "markdown",
   "metadata": {},
   "source": [
    "# Test case\n",
    "- Input\n",
    "```[ \n",
    "  [5, 3, -, -, 7, -, -, -, -], \n",
    "  [6, -, -, 1, 9, 5, -, -, -], \n",
    "  [8, -, -, -, 6, -, -, -, 3],\n",
    "  [4, -, -, 8, -, 3, -, -, 1], \n",
    "  [7, -, -, -, 2, -, -, -, 6],\n",
    "  [-, 6, -, -, -, -, 2, 8, -],\n",
    "  [-, -, -, 4, 1, 9, -, -, 5],\n",
    "  [-, -, -, -, 8, -, -, 7, 9] \n",
    "]```\n",
    "\n",
    "- Output \n",
    "```[\n",
    "    [5, 3, 4, 6, 7, 8, 9, 1, 2],\n",
    "    [6, 7, 2, 1, 9, 6, 3, 4, 8],\n",
    "    [1, 9, 8, 3, 4, 2, 5, 6, 8],\n",
    "    [8, 5, 9, 7, 6, 1, 4, 2, 3],\n",
    "    [4, 2, 6, 8, 5, 3, 7, 9, 1],\n",
    "    [7, 1, 3, 9, 2, 4, 8, 5, 6],\n",
    "    [9, 6, 1, 5, 3, 7, 2, 8, 4],\n",
    "    [2, 8, 7, 4, 1, 9, 6, 3, 5],\n",
    "    [3, 4, 5, 2, 8, 6, 1, 7, 9]\n",
    "]```\n",
    "\n",
    "\n",
    "\n",
    "\n",
    "\n",
    "\n",
    "\n",
    "\n",
    "\n",
    "\n"
   ]
  },
  {
   "cell_type": "markdown",
   "metadata": {},
   "source": []
  }
 ],
 "metadata": {
  "language_info": {
   "name": "python"
  }
 },
 "nbformat": 4,
 "nbformat_minor": 2
}
