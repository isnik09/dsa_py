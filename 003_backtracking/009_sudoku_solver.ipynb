{
 "cells": [
  {
   "cell_type": "markdown",
   "metadata": {},
   "source": [
    "# Sudoku Solver\n",
    "Write a program to solve a Sudoku puzzle by filling the empty cells. A sudoku solution must satisfy all following rules \n",
    "- 1. Each of the digits `1-9` must occur exactly once in each row. \n",
    "- 2. Each of the digits `1-9` must occur exactly once in each column. \n",
    "- 3. Each of the digits `1-9` must occur exactly once in each of the 9 `3X3` sub-boxes of the grid. \n",
    "The character `.` indicates empty cells"
   ]
  },
  {
   "cell_type": "markdown",
   "metadata": {},
   "source": [
    "# Test case\n",
    "- Input\n",
    "```[ \n",
    "  [5, 3, -, -, 7, -, -, -, -], \n",
    "  [6, -, -, 1, 9, 5, -, -, -], \n",
    "  [8, -, -, -, 6, -, -, -, 3],\n",
    "  [4, -, -, 8, -, 3, -, -, 1], \n",
    "  [7, -, -, -, 2, -, -, -, 6],\n",
    "  [-, 6, -, -, -, -, 2, 8, -],\n",
    "  [-, -, -, 4, 1, 9, -, -, 5],\n",
    "  [-, -, -, -, 8, -, -, 7, 9] \n",
    "]```\n",
    "\n",
    "- Output \n",
    "```[\n",
    "    [5, 3, 4, 6, 7, 8, 9, 1, 2],\n",
    "    [6, 7, 2, 1, 9, 6, 3, 4, 8],\n",
    "    [1, 9, 8, 3, 4, 2, 5, 6, 8],\n",
    "    [8, 5, 9, 7, 6, 1, 4, 2, 3],\n",
    "    [4, 2, 6, 8, 5, 3, 7, 9, 1],\n",
    "    [7, 1, 3, 9, 2, 4, 8, 5, 6],\n",
    "    [9, 6, 1, 5, 3, 7, 2, 8, 4],\n",
    "    [2, 8, 7, 4, 1, 9, 6, 3, 5],\n",
    "    [3, 4, 5, 2, 8, 6, 1, 7, 9]\n",
    "]```"
   ]
  },
  {
   "cell_type": "code",
   "execution_count": null,
   "metadata": {},
   "outputs": [],
   "source": [
    "def solve_sudoku(board): \n",
    "    def is_valid(num, row, col): \n",
    "        for x in range(9): \n",
    "            # Column check\n",
    "            if board[x][col] ==num: \n",
    "                return False\n",
    "            # Row check\n",
    "            if board[row][x] == num: \n",
    "                return False\n",
    "            # Box check \n",
    "            r = 3 * (row //3) + x//3\n",
    "            c = 3 * (col //3) + x%3\n",
    "            if board[r][c]==num: \n",
    "                return False            \n",
    "\n",
    "    def fill_the_board(board): \n",
    "        # identify empty cells\n",
    "        for row in range(9): \n",
    "            for col in range(9): \n",
    "                if board[row][col] =='.': \n",
    "                    for num in '123456789': \n",
    "                        if is_valid(num,row, col): \n",
    "                            board[row][col] = num\n",
    "                            if(fill_the_board(board=board)): return True\n",
    "                            board[row][col] = '.'  # Backtrack\n",
    "                    return False\n",
    "        return True\n",
    "\n",
    "    fill_the_board(board)    \n",
    "\n",
    "\n",
    "\n",
    "\n",
    "\n"
   ]
  },
  {
   "cell_type": "code",
   "execution_count": null,
   "metadata": {},
   "outputs": [],
   "source": []
  }
 ],
 "metadata": {
  "kernelspec": {
   "display_name": ".venv",
   "language": "python",
   "name": "python3"
  },
  "language_info": {
   "codemirror_mode": {
    "name": "ipython",
    "version": 3
   },
   "file_extension": ".py",
   "mimetype": "text/x-python",
   "name": "python",
   "nbconvert_exporter": "python",
   "pygments_lexer": "ipython3",
   "version": "3.12.3"
  }
 },
 "nbformat": 4,
 "nbformat_minor": 2
}
