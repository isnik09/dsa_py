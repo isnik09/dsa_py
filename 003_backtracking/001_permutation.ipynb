{
 "cells": [
  {
   "cell_type": "markdown",
   "metadata": {},
   "source": [
    "# Permutations \n",
    "Given an array of distinct integers, return all possible permutations. You can return the answer in any order"
   ]
  },
  {
   "cell_type": "markdown",
   "metadata": {},
   "source": [
    "# Clarifying questions \n",
    "- What if we are given an empty array? \n",
    "  - No, input array will atleast have 1 element"
   ]
  },
  {
   "cell_type": "markdown",
   "metadata": {},
   "source": [
    "# Test Cases \n",
    "- [1,2,3]\n",
    "  - [[1,2,3], [2,1,3], [3,2,1], [1,3,2],[2,3,1],[3,1,2]]\n",
    "- [1]\n",
    "  - [[1]]"
   ]
  },
  {
   "cell_type": "markdown",
   "metadata": {},
   "source": [
    "# Complexity\n",
    "- Space Complexity\n",
    "  - $O(n)$\n",
    "- Time Complexity\n",
    "  - $O(n * n!)$"
   ]
  },
  {
   "cell_type": "code",
   "execution_count": 3,
   "metadata": {},
   "outputs": [
    {
     "name": "stdout",
     "output_type": "stream",
     "text": [
      "[[1, 2, 3], [1, 3, 2], [2, 1, 3], [2, 3, 1], [3, 2, 1], [3, 1, 2]]\n"
     ]
    }
   ],
   "source": [
    "def permute(nums): \n",
    "    n = len(nums)\n",
    "    res = []\n",
    "    def helper(index): \n",
    "        # base case\n",
    "        if index == n-1: \n",
    "            res.append(nums[:])\n",
    "            return\n",
    "        \n",
    "        # recursive case\n",
    "        for j in range(index, n): \n",
    "            nums[index], nums[j] = nums[j], nums[index]\n",
    "            helper(index + 1)\n",
    "            nums[index], nums[j] = nums[j], nums[index]\n",
    "    helper(0)\n",
    "    return res\n",
    "print(permute([1,2,3]))"
   ]
  },
  {
   "cell_type": "code",
   "execution_count": null,
   "metadata": {},
   "outputs": [],
   "source": []
  }
 ],
 "metadata": {
  "kernelspec": {
   "display_name": ".venv",
   "language": "python",
   "name": "python3"
  },
  "language_info": {
   "codemirror_mode": {
    "name": "ipython",
    "version": 3
   },
   "file_extension": ".py",
   "mimetype": "text/x-python",
   "name": "python",
   "nbconvert_exporter": "python",
   "pygments_lexer": "ipython3",
   "version": "3.12.3"
  }
 },
 "nbformat": 4,
 "nbformat_minor": 2
}
