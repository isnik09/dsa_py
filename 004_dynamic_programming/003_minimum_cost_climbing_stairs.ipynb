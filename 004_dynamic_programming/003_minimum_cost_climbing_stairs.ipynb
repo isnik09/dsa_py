{
 "cells": [
  {
   "cell_type": "markdown",
   "metadata": {},
   "source": [
    "# Question : Minimum Cost Climbing Stairs \n",
    "You are given an integer array `cost` where `cost[i]` is cost of `ith` step on a staircase. Once you pay the cost, you can either climb one or two steps. You can either start from the step with index `0`, or the step with the index `1`. Return the minimum cost to reach the top of the floor. "
   ]
  },
  {
   "cell_type": "markdown",
   "metadata": {},
   "source": [
    "# Example \n",
    "- Input    \n",
    "  - Cost = [10,20,30]\n",
    "- Output \n",
    "  - 20 and climb 2 steps"
   ]
  },
  {
   "cell_type": "markdown",
   "metadata": {},
   "source": [
    "## Recursive Approach \n",
    "## Complexity Analysis\n",
    "- Time Complexity\n",
    "  - $O(2^n)$\n",
    "- Space Complexity\n",
    "  - $O(n)$"
   ]
  },
  {
   "cell_type": "code",
   "execution_count": 4,
   "metadata": {},
   "outputs": [
    {
     "name": "stdout",
     "output_type": "stream",
     "text": [
      "60\n"
     ]
    }
   ],
   "source": [
    "def min_cost(cost) :\n",
    "    n = len(cost) \n",
    "    def helper(index):\n",
    "        # return the cost of reaching the top starting from step - index.\n",
    "        # base case\n",
    "        if index > n-1: \n",
    "            return 0 \n",
    "        # recursive case\n",
    "        one_step = cost[index] + helper(index+1)\n",
    "\n",
    "        two_steps = cost[index] + helper(index+2)\n",
    "        return min(one_step,two_steps)\n",
    "    return min(helper(0), helper(1))\n",
    "print(min_cost([10,20,30,40,60])) "
   ]
  },
  {
   "cell_type": "markdown",
   "metadata": {},
   "source": [
    "## Memorization Approach / Top Down Approach \n",
    "## Complexity Analysis\n",
    "- Time Complexity\n",
    "  - $O(n)$\n",
    "    - Cost from index compute once and stored\n",
    "    - const time operations within each call\n",
    "- Space Complexity\n",
    "  - $O(n)$\n",
    "    - array $O(n)$\n",
    "    - recursive call stack $O(n)$\n",
    "  - $O(n)$"
   ]
  },
  {
   "cell_type": "code",
   "execution_count": 8,
   "metadata": {},
   "outputs": [
    {
     "name": "stdout",
     "output_type": "stream",
     "text": [
      "60\n"
     ]
    }
   ],
   "source": [
    "def min_cost_for_reaching_top(cost) :\n",
    "    n = len(cost) \n",
    "    min_cost = [-1]*n\n",
    "    def helper(index):\n",
    "        # return the cost of reaching the top starting from step - index.\n",
    "        # base case\n",
    "        if index > n-1: \n",
    "            return 0 \n",
    "        # recursive case\n",
    "        if min_cost[index]!=-1: \n",
    "            return min_cost[index]\n",
    "        \n",
    "        one_step = cost[index] + helper(index+1)\n",
    "\n",
    "        two_steps = cost[index] + helper(index+2)\n",
    "        \n",
    "        min_cost[index] = min(one_step, two_steps)\n",
    "        return min_cost[index]\n",
    "    return min(helper(0), helper(1))\n",
    "\n",
    "print(min_cost_for_reaching_top([10,20,30,40,60])) "
   ]
  },
  {
   "cell_type": "markdown",
   "metadata": {},
   "source": [
    "## Tabulation Approach \n",
    "## Complexity Analysis\n",
    "- Time Complexity\n",
    "  - $O(n)$\n",
    "    - iterating from 2 to n\n",
    "    - const time operations in each iteration\n",
    "- Space Complexity\n",
    "  - $O(n)$\n",
    "    - array / hashmap "
   ]
  },
  {
   "cell_type": "code",
   "execution_count": 9,
   "metadata": {},
   "outputs": [
    {
     "name": "stdout",
     "output_type": "stream",
     "text": [
      "20\n"
     ]
    }
   ],
   "source": [
    "def min_cost_for_reaching_top(cost): \n",
    "    n = len(cost)\n",
    "    min_cost = [0]*(n+1)\n",
    "    min_cost[0] = 0\n",
    "    min_cost[1] = 0 \n",
    "    for i in range(2,n+1):\n",
    "        one_step = cost[i-1] + min_cost[i-1]\n",
    "        two_step = cost[i-2] + min_cost[i-2]\n",
    "        min_cost[i] = min(one_step, two_step)\n",
    "    return min_cost[n]\n",
    "print(min_cost_for_reaching_top([10,20,30]))"
   ]
  }
 ],
 "metadata": {
  "kernelspec": {
   "display_name": ".venv",
   "language": "python",
   "name": "python3"
  },
  "language_info": {
   "codemirror_mode": {
    "name": "ipython",
    "version": 3
   },
   "file_extension": ".py",
   "mimetype": "text/x-python",
   "name": "python",
   "nbconvert_exporter": "python",
   "pygments_lexer": "ipython3",
   "version": "3.12.3"
  }
 },
 "nbformat": 4,
 "nbformat_minor": 2
}
