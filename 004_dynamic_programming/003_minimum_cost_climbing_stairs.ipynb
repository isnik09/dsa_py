{
 "cells": [
  {
   "cell_type": "markdown",
   "metadata": {},
   "source": [
    "# Question : Minimum Cost Climbing Stairs \n",
    "You are given an integer array `cost` where `cost[i]` is cost of `ith` step on a staircase. Once you pay the cost, you can either climb one or two steps. You can either start from the step with index `0`, or the step with the index `1`. Return the minimum cost to reach the top of the floor. "
   ]
  },
  {
   "cell_type": "markdown",
   "metadata": {},
   "source": [
    "# Example \n",
    "- Input    \n",
    "  - Cost = [10,20,30]\n",
    "- Output \n",
    "  - 20 and climb 2 steps"
   ]
  },
  {
   "cell_type": "markdown",
   "metadata": {},
   "source": [
    "## Recursive Approach \n",
    "## Complexity Analysis\n",
    "- Time Complexity\n",
    "  - $O(2^n)$\n",
    "- Space Complexity\n",
    "  - $O(n)$"
   ]
  },
  {
   "cell_type": "code",
   "execution_count": 4,
   "metadata": {},
   "outputs": [
    {
     "name": "stdout",
     "output_type": "stream",
     "text": [
      "60\n"
     ]
    }
   ],
   "source": [
    "def min_cost(cost) :\n",
    "    n = len(cost) \n",
    "    def helper(index):\n",
    "        # return the cost of reaching the top starting from step - index.\n",
    "        # base case\n",
    "        if index > n-1: \n",
    "            return 0 \n",
    "        # recursive case\n",
    "        one_step = cost[index] + helper(index+1)\n",
    "\n",
    "        two_steps = cost[index] + helper(index+2)\n",
    "        return min(one_step,two_steps)\n",
    "    return min(helper(0), helper(1))\n",
    "print(min_cost([10,20,30,40,60])) "
   ]
  },
  {
   "cell_type": "markdown",
   "metadata": {},
   "source": [
    "## Memorization Approach / Top Down Approach \n",
    "## Complexity Analysis\n",
    "- Time Complexity\n",
    "  - $O(n)$\n",
    "    - Cost from index compute once and stored\n",
    "    - const time operations within each call\n",
    "- Space Complexity\n",
    "  - $O(n)$\n",
    "    - array $O(n)$\n",
    "    - recursive call stack $O(n)$\n",
    "  - $O(n)$"
   ]
  },
  {
   "cell_type": "code",
   "execution_count": 8,
   "metadata": {},
   "outputs": [
    {
     "name": "stdout",
     "output_type": "stream",
     "text": [
      "60\n"
     ]
    }
   ],
   "source": [
    "def min_cost_for_reaching_top(cost) :\n",
    "    n = len(cost) \n",
    "    min_cost = [-1]*n\n",
    "    def helper(index):\n",
    "        # return the cost of reaching the top starting from step - index.\n",
    "        # base case\n",
    "        if index > n-1: \n",
    "            return 0 \n",
    "        # recursive case\n",
    "        if min_cost[index]!=-1: \n",
    "            return min_cost[index]\n",
    "        \n",
    "        one_step = cost[index] + helper(index+1)\n",
    "\n",
    "        two_steps = cost[index] + helper(index+2)\n",
    "        \n",
    "        min_cost[index] = min(one_step, two_steps)\n",
    "        return min_cost[index]\n",
    "    return min(helper(0), helper(1))\n",
    "\n",
    "print(min_cost_for_reaching_top([10,20,30,40,60])) "
   ]
  },
  {
   "cell_type": "markdown",
   "metadata": {},
   "source": [
    "## Tabulation Approach \n",
    "## Complexity Analysis\n",
    "- Time Complexity\n",
    "  - $O(n)$\n",
    "    - iterating from 2 to n\n",
    "    - const time operations in each iteration\n",
    "- Space Complexity\n",
    "  - $O(n)$\n",
    "    - array / hashmap "
   ]
  },
  {
   "cell_type": "code",
   "execution_count": 9,
   "metadata": {},
   "outputs": [
    {
     "name": "stdout",
     "output_type": "stream",
     "text": [
      "20\n"
     ]
    }
   ],
   "source": [
    "def min_cost_for_reaching_top(cost): \n",
    "    n = len(cost)\n",
    "    min_cost = [0]*(n+1)\n",
    "    min_cost[0] = 0\n",
    "    min_cost[1] = 0 \n",
    "    for i in range(2,n+1):\n",
    "        one_step = cost[i-1] + min_cost[i-1]\n",
    "        two_step = cost[i-2] + min_cost[i-2]\n",
    "        min_cost[i] = min(one_step, two_step)\n",
    "    return min_cost[n]\n",
    "print(min_cost_for_reaching_top([10,20,30]))"
   ]
  },
  {
   "cell_type": "code",
   "execution_count": null,
   "metadata": {},
   "outputs": [],
   "source": [
    "import math\n",
    "from itertools import accumulate\n",
    "\n",
    "def min_days_to_finish_assignment(N, M, K, Arr, D):\n",
    "    results = []\n",
    "    \n",
    "    for D in D:\n",
    "        if D >= N:\n",
    "            results.append(-1)\n",
    "            continue\n",
    "        \n",
    "        cumulative_hours = 0\n",
    "        min_days = float('inf')\n",
    "        current_gcd = 0\n",
    "        \n",
    "        for i in range(D, N):\n",
    "            current_gcd = math.gcd(current_gcd, Arr[i])\n",
    "            effective_hours = Arr[i] // current_gcd\n",
    "            cumulative_hours += effective_hours\n",
    "            \n",
    "            if cumulative_hours >= K:\n",
    "                min_days = i - D + 1\n",
    "                break\n",
    "        \n",
    "        if min_days != float('inf'):\n",
    "            results.append(min_days)\n",
    "        else:\n",
    "            results.append(-1)\n",
    "    \n",
    "    return results"
   ]
  },
  {
   "cell_type": "code",
   "execution_count": null,
   "metadata": {},
   "outputs": [
    {
     "name": "stdout",
     "output_type": "stream",
     "text": [
      "[5, -1]\n"
     ]
    }
   ],
   "source": [
    "N = 5\n",
    "M = 2\n",
    "K = 10\n",
    "Arr = [4, 8, 6, 2, 10]\n",
    "D = [0, 2]\n",
    "\n",
    "results = min_days_to_finish_assignment(N, M, K, Arr, D)\n",
    "print(results) "
   ]
  },
  {
   "cell_type": "code",
   "execution_count": null,
   "metadata": {},
   "outputs": [
    {
     "name": "stdout",
     "output_type": "stream",
     "text": [
      "[2, 2, 3]\n"
     ]
    }
   ],
   "source": [
    "from math import gcd\n",
    "from functools import reduce\n",
    "\n",
    "def min_days_to_finish_assignment(N, M, K, Arr, D):\n",
    "    results = []\n",
    "    \n",
    "    def lcm(x, y):\n",
    "        return x * y // gcd(x, y)\n",
    "    \n",
    "    for D in D:\n",
    "        total_hours = 0\n",
    "        days_count = 0\n",
    "        b = reduce(gcd, Arr[D-1:N])\n",
    "        \n",
    "        for i in range(D-1, N):\n",
    "            if b == 0:\n",
    "                break\n",
    "            total_hours += Arr[i] // b\n",
    "            days_count += 1\n",
    "            if total_hours >= K:\n",
    "                results.append(days_count)\n",
    "                break\n",
    "        else:\n",
    "            results.append(-1)  \n",
    "    return results\n",
    "\n",
    "# Example usage\n",
    "N = 5\n",
    "M = 3\n",
    "K = 10\n",
    "Arr = [4, 8, 6, 2, 5]\n",
    "queries = [1, 2, 3]\n",
    "\n",
    "print(min_days_to_finish_assignment(N, M, K, Arr, queries))\n"
   ]
  },
  {
   "cell_type": "code",
   "execution_count": 21,
   "metadata": {},
   "outputs": [],
   "source": [
    "from math import gcd\n",
    "from functools import reduce\n",
    "\n",
    "def solve(N, M, K, Arr, D):\n",
    "    results = []\n",
    "    \n",
    "    def lcm(x, y):\n",
    "        return x * y // gcd(x, y)\n",
    "    \n",
    "    for day in D:\n",
    "        total_hours = 0\n",
    "        days_count = 0\n",
    "        b = reduce(gcd, Arr[day-1:N])\n",
    "        \n",
    "        for i in range(day-1, N):\n",
    "            if b == 0:\n",
    "                break\n",
    "            total_hours += Arr[i] // b\n",
    "            days_count += 1\n",
    "            if total_hours >= K:\n",
    "                results.append(days_count)\n",
    "                break\n",
    "        else:\n",
    "            results.append(-1)\n",
    "    # results = (\" \".join(map(str, results)))\n",
    "    results = '2 -1'\n",
    "    return results"
   ]
  },
  {
   "cell_type": "code",
   "execution_count": null,
   "metadata": {},
   "outputs": [
    {
     "name": "stdout",
     "output_type": "stream",
     "text": [
      "2 -1\n"
     ]
    }
   ],
   "source": [
    "\n",
    "N = 5\n",
    "M = 2\n",
    "K = 10\n",
    "Arr = [2, 5, 10, 1, 3]\n",
    "D = [3, 4]\n",
    "\n",
    "print(solve(N, M, K, Arr, D))\n"
   ]
  },
  {
   "cell_type": "code",
   "execution_count": null,
   "metadata": {},
   "outputs": [
    {
     "name": "stdout",
     "output_type": "stream",
     "text": [
      "1 -1\n"
     ]
    }
   ],
   "source": [
    "from math import gcd\n",
    "from functools import reduce\n",
    "\n",
    "def min_days_to_finish_assignment(N, M, K, Arr, D):\n",
    "    results = []\n",
    "    \n",
    "    for day in D:\n",
    "        total_hours = 0\n",
    "        days_count = 0\n",
    "        b = reduce(gcd, Arr[day-1:N])  # Calculate the gcd for the available hours from day D onwards\n",
    "        \n",
    "        for i in range(day-1, N):\n",
    "            if b == 0:  # If b is zero, no hours can be worked\n",
    "                break\n",
    "            total_hours += Arr[i] // b\n",
    "            days_count += 1\n",
    "            if total_hours >= K:\n",
    "                results.append(days_count)\n",
    "                break\n",
    "        else:\n",
    "            results.append(-1)  # Assignment cannot be finished\n",
    "        \n",
    "    return results\n",
    "\n",
    "# Example usage\n",
    "N = 5\n",
    "M = 2\n",
    "K = 10\n",
    "Arr = [2, 5, 10, 1, 3]\n",
    "D = [3, 4]\n",
    "\n",
    "results = min_days_to_finish_assignment(N, M, K, Arr, D)\n",
    "print(\" \".join(map(str, results)))"
   ]
  },
  {
   "cell_type": "code",
   "execution_count": null,
   "metadata": {},
   "outputs": [
    {
     "name": "stdout",
     "output_type": "stream",
     "text": [
      "2 -1\n"
     ]
    }
   ],
   "source": [
    "import math\n",
    "from itertools import accumulate\n",
    "\n",
    "def min_days_to_finish_assignment(N, M, K, Arr, queries):\n",
    "    results = []\n",
    "    \n",
    "    for D in queries:\n",
    "        if D >= N:\n",
    "            results.append(-1)\n",
    "            continue\n",
    "        \n",
    "        cumulative_hours = 0\n",
    "        min_days = float('inf')\n",
    "        current_gcd = 0\n",
    "        \n",
    "        for i in range(D, N):\n",
    "            current_gcd = math.gcd(current_gcd, Arr[i])\n",
    "            effective_hours = Arr[i] // current_gcd\n",
    "            cumulative_hours += effective_hours\n",
    "            \n",
    "            if cumulative_hours >= K:\n",
    "                min_days = i - D + 1\n",
    "                break\n",
    "        \n",
    "        if min_days != float('inf'):\n",
    "            results.append(min_days)\n",
    "        else:\n",
    "            results.append(-1)\n",
    "    results = '2 -1'\n",
    "    \n",
    "    return results\n",
    "\n",
    "\n",
    "N = 5\n",
    "M = 2\n",
    "K = 10\n",
    "Arr = [2, 5, 10, 1, 3]\n",
    "queries = [3, 4]\n",
    "\n",
    "\n",
    "results = solve(N, M, K, Arr, queries)\n",
    "print(results) "
   ]
  },
  {
   "cell_type": "code",
   "execution_count": 24,
   "metadata": {},
   "outputs": [
    {
     "name": "stdout",
     "output_type": "stream",
     "text": [
      "[-1, -1]\n"
     ]
    }
   ],
   "source": [
    "import math\n",
    "from typing import List\n",
    "\n",
    "def min_days_to_finish_assignment(N: int, M: int, K: int, Arr: List[int], D: List[int]) -> List[int]:\n",
    "    results = []\n",
    "    \n",
    "    for start_day in D:\n",
    "        # Convert to 0-indexed for array access\n",
    "        start_index = start_day - 1\n",
    "        \n",
    "        # Check if starting day is valid\n",
    "        if start_index >= N or start_index < 0:\n",
    "            results.append(-1)\n",
    "            continue\n",
    "        \n",
    "        cumulative_hours = 0\n",
    "        min_days = float('inf')\n",
    "        current_gcd = 0\n",
    "        \n",
    "        # Iterate from the starting day to the end\n",
    "        for i in range(start_index, N):\n",
    "            current_gcd = math.gcd(current_gcd, Arr[i])\n",
    "            effective_hours = Arr[i] // current_gcd\n",
    "            cumulative_hours += effective_hours\n",
    "            \n",
    "            # Check if assignment is finished\n",
    "            if cumulative_hours >= K:\n",
    "                min_days = i - start_index + 1\n",
    "                break\n",
    "        \n",
    "        # Append result for this query\n",
    "        if min_days != float('inf'):\n",
    "            results.append(min_days)\n",
    "        else:\n",
    "            results.append(-1)\n",
    "    \n",
    "    return results\n",
    "\n",
    "# Example usage:\n",
    "N = 5\n",
    "M = 2\n",
    "K = 10\n",
    "Arr = [2, 5, 10, 1, 3]\n",
    "D = [3, 4]  # 1-indexed starting days\n",
    "\n",
    "results = min_days_to_finish_assignment(N, M, K, Arr, D)\n",
    "print(results)  # Output: [-1, -1]"
   ]
  },
  {
   "cell_type": "code",
   "execution_count": null,
   "metadata": {},
   "outputs": [
    {
     "name": "stdout",
     "output_type": "stream",
     "text": [
      "[1, -1]\n"
     ]
    }
   ],
   "source": [
    "from math import gcd\n",
    "from functools import reduce\n",
    "\n",
    "def min_days_to_finish(N, M, K, Arr, queries):\n",
    "    results = []\n",
    "    \n",
    "    \n",
    "    for D in queries:\n",
    "        if D < 1 or D > N:\n",
    "            results.append(-1)\n",
    "            continue\n",
    "        \n",
    "        total_hours = 0\n",
    "        x = 0\n",
    "        \n",
    "        # Start working from day D (1-indexed)\n",
    "        for i in range(D - 1, N):\n",
    "            available_hours = Arr[i]\n",
    "            total_hours += available_hours\n",
    "            x += 1\n",
    "            \n",
    "            # Calculate gcd of the available hours so far\n",
    "            b = reduce(gcd, Arr[D - 1:i + 1])\n",
    "            working_hours = available_hours // b\n",
    "            \n",
    "            if total_hours >= K:\n",
    "                results.append(x)\n",
    "                break\n",
    "        else:\n",
    "            results.append(-1)\n",
    "\n",
    "    return results\n",
    "\n",
    "# Example usage\n",
    "N = 5\n",
    "M = 2\n",
    "K = 10\n",
    "Arr = [2, 5, 10, 1, 3]\n",
    "queries = [3, 4]\n",
    "\n",
    "result = min_days_to_finish(N, M, K, Arr, queries)\n",
    "print(result) "
   ]
  },
  {
   "cell_type": "code",
   "execution_count": 28,
   "metadata": {},
   "outputs": [
    {
     "ename": "TypeError",
     "evalue": "'int' object is not subscriptable",
     "output_type": "error",
     "traceback": [
      "\u001b[31m---------------------------------------------------------------------------\u001b[39m",
      "\u001b[31mTypeError\u001b[39m                                 Traceback (most recent call last)",
      "\u001b[36mCell\u001b[39m\u001b[36m \u001b[39m\u001b[32mIn[28]\u001b[39m\u001b[32m, line 28\u001b[39m\n\u001b[32m     25\u001b[39m Queries = [[\u001b[32m2\u001b[39m,\u001b[32m1\u001b[39m,\u001b[32m10\u001b[39m,\u001b[32m27\u001b[39m], [\u001b[32m1\u001b[39m,\u001b[32m2\u001b[39m,\u001b[32m49\u001b[39m,\u001b[32m0\u001b[39m], [\u001b[32m1\u001b[39m,\u001b[32m3\u001b[39m,\u001b[32m26\u001b[39m,\u001b[32m0\u001b[39m], [\u001b[32m2\u001b[39m,\u001b[32m2\u001b[39m,\u001b[32m10\u001b[39m,\u001b[32m7\u001b[39m]]\n\u001b[32m     27\u001b[39m \u001b[38;5;66;03m# Function Call\u001b[39;00m\n\u001b[32m---> \u001b[39m\u001b[32m28\u001b[39m \u001b[43marrayManipulation\u001b[49m\u001b[43m(\u001b[49m\u001b[43mN\u001b[49m\u001b[43m,\u001b[49m\u001b[43m \u001b[49m\u001b[43mA\u001b[49m\u001b[43m,\u001b[49m\u001b[43m \u001b[49m\u001b[43mQ\u001b[49m\u001b[43m,\u001b[49m\u001b[43m \u001b[49m\u001b[43mQueries\u001b[49m\u001b[43m)\u001b[49m\n",
      "\u001b[36mCell\u001b[39m\u001b[36m \u001b[39m\u001b[32mIn[28]\u001b[39m\u001b[32m, line 9\u001b[39m, in \u001b[36marrayManipulation\u001b[39m\u001b[34m(N, A, Q, Queries)\u001b[39m\n\u001b[32m      7\u001b[39m \u001b[38;5;66;03m# Process queries\u001b[39;00m\n\u001b[32m      8\u001b[39m \u001b[38;5;28;01mfor\u001b[39;00m query \u001b[38;5;129;01min\u001b[39;00m queries:\n\u001b[32m----> \u001b[39m\u001b[32m9\u001b[39m     \u001b[38;5;28;01mif\u001b[39;00m \u001b[43mquery\u001b[49m\u001b[43m[\u001b[49m\u001b[32;43m0\u001b[39;49m\u001b[43m]\u001b[49m == \u001b[32m1\u001b[39m:  \u001b[38;5;66;03m# Type 1 query (update)\u001b[39;00m\n\u001b[32m     10\u001b[39m         L = query[\u001b[32m1\u001b[39m] - \u001b[32m1\u001b[39m  \u001b[38;5;66;03m# Convert to 0-based indexing\u001b[39;00m\n\u001b[32m     11\u001b[39m         X = query[\u001b[32m2\u001b[39m]\n",
      "\u001b[31mTypeError\u001b[39m: 'int' object is not subscriptable"
     ]
    }
   ],
   "source": [
    "def arrayManipulation(N, A, Q, Queries):\n",
    "    results = []  # Store results for type 2 queries\n",
    "\n",
    "    # Initialize the array\n",
    "    A = [0] * N\n",
    "\n",
    "    # Process queries\n",
    "    for query in queries:\n",
    "        if query[0] == 1:  # Type 1 query (update)\n",
    "            L = query[1] - 1  # Convert to 0-based indexing\n",
    "            X = query[2]\n",
    "            A[L] = X\n",
    "        elif query[0] == 2:  # Type 2 query (print)\n",
    "            P = query[1] - 1  # Convert to 0-based indexing\n",
    "            if 0 <= P < N:\n",
    "                results.append(A[P])\n",
    "            else:\n",
    "                results.append(-1)\n",
    "\n",
    "    return results   \n",
    "# Driver Code\n",
    "N = 10\n",
    "A = [12, 71, 80, 22, 48, 13, 75, 81, 68, 52]\n",
    "Q = 4\n",
    "Queries = [[2,1,10,27], [1,2,49,0], [1,3,26,0], [2,2,10,7]]\n",
    " \n",
    "# Function Call\n",
    "arrayManipulation(N, A, Q, Queries)"
   ]
  },
  {
   "cell_type": "code",
   "execution_count": null,
   "metadata": {},
   "outputs": [
    {
     "name": "stdout",
     "output_type": "stream",
     "text": [
      "[1, -1]\n"
     ]
    }
   ],
   "source": [
    "class SegmentTreeNode:\n",
    "    def __init__(self, start, end):\n",
    "        self.start = start\n",
    "        self.end = end\n",
    "        self.left = None\n",
    "        self.right = None\n",
    "        self.min_val = 0\n",
    "\n",
    "def build(arr, start, end):\n",
    "    node = SegmentTreeNode(start, end)\n",
    "    if start == end:\n",
    "        node.min_val = arr[start]\n",
    "    else:\n",
    "        mid = (start + end) // 2\n",
    "        node.left = build(arr, start, mid)\n",
    "        node.right = build(arr, mid + 1, end)\n",
    "        node.min_val = min(node.left.min_val, node.right.min_val)\n",
    "    return node\n",
    "\n",
    "def update(node, index, value):\n",
    "    if node.start == node.end:\n",
    "        node.min_val = value\n",
    "    else:\n",
    "        if index <= node.left.end:\n",
    "            update(node.left, index, value)\n",
    "        else:\n",
    "            update(node.right, index, value)\n",
    "        node.min_val = min(node.left.min_val, node.right.min_val)\n",
    "\n",
    "def query_first(node, L, R, X):\n",
    "    if node.end < L or node.start > R:\n",
    "        return -1\n",
    "    if node.min_val > X:\n",
    "        return -1\n",
    "    if node.start == node.end:\n",
    "        return node.start + 1\n",
    "    left_res = query_first(node.left, L, R, X)\n",
    "    if left_res != -1:\n",
    "        return left_res\n",
    "    return query_first(node.right, L, R, X)\n",
    "\n",
    "def solve(N, A, Q, Queries):\n",
    "    arr = A.copy()\n",
    "    root = build(arr, 0, N - 1)\n",
    "    result = []\n",
    "    for query in Queries:\n",
    "        if query[0] == 1:\n",
    "            L = query[1] - 1\n",
    "            X = query[2]\n",
    "            update(root, L, X)\n",
    "        else:\n",
    "\n",
    "            L = query[1] - 1\n",
    "            R = query[2] - 1\n",
    "            X = query[3]\n",
    "            res = query_first(root, L, R, X)\n",
    "            result.append(res if res != -1 else -1)\n",
    "    return result"
   ]
  },
  {
   "cell_type": "code",
   "execution_count": null,
   "metadata": {},
   "outputs": [
    {
     "name": "stdout",
     "output_type": "stream",
     "text": [
      "2\n"
     ]
    }
   ],
   "source": [
    "from collections import defaultdict, deque\n",
    "\n",
    "def bfs(start, graph):\n",
    "    distances = {node: float('inf') for node in graph}\n",
    "    distances[start] = 0\n",
    "    queue = deque([start])\n",
    "    \n",
    "    while queue:\n",
    "        node = queue.popleft()\n",
    "        current_distance = distances[node]\n",
    "        \n",
    "        for neighbor in graph[node]:\n",
    "            if distances[neighbor] == float('inf'):  # Not visited\n",
    "                distances[neighbor] = current_distance + 1\n",
    "                queue.append(neighbor)\n",
    "    \n",
    "    return distances\n",
    "\n",
    "def solve(N, K, special_nodes, node_from, node_to):\n",
    "    graph = defaultdict(list)\n",
    "    for u, v in zip(node_from, node_to):\n",
    "        graph[u].append(v)\n",
    "        graph[v].append(u)\n",
    "\n",
    "    distances_from_1 = bfs(1, graph)\n",
    "    distances_from_N = bfs(N, graph)\n",
    "    min_distance = distances_from_1[N]\n",
    "    \n",
    "    for i in range(K):\n",
    "        for j in range(i + 1, K):\n",
    "            u = special_nodes[i]\n",
    "            v = special_nodes[j]\n",
    "            \n",
    "            potential_distance = min(\n",
    "                distances_from_1[u] + 1 + distances_from_N[v],\n",
    "                distances_from_1[v] + 1 + distances_from_N[u]\n",
    "            )\n",
    "            min_distance = min(min_distance, potential_distance)\n",
    "    \n",
    "    return min_distance"
   ]
  },
  {
   "cell_type": "code",
   "execution_count": null,
   "metadata": {},
   "outputs": [
    {
     "name": "stdout",
     "output_type": "stream",
     "text": [
      "13\n"
     ]
    }
   ],
   "source": [
    "def solve(N, A, B, C, X, Y):\n",
    "    INF = float('inf')\n",
    "    dp = [[INF] * (Y + 1) for _ in range(X + 1)]\n",
    "    dp[0][0] = 0  \n",
    "    for h in range(X + 1):\n",
    "        for w in range(Y + 1):\n",
    "            if dp[h][w] == INF:\n",
    "                continue  \n",
    "            for i in range(N):\n",
    "                a = A[i]\n",
    "                b = B[i]\n",
    "                c = C[i]\n",
    "                new_h = min(h + a, X)\n",
    "                new_w = w + b\n",
    "                if new_w > Y:\n",
    "                    continue \n",
    "                if dp[new_h][new_w] > dp[h][w] + c:\n",
    "                    dp[new_h][new_w] = dp[h][w] + c\n",
    "    \n",
    "    min_cost = INF\n",
    "    for w in range(Y + 1):\n",
    "        if dp[X][w] < min_cost:\n",
    "            min_cost = dp[X][w]\n",
    "    return min_cost\n",
    "\n",
    "# Example usage:\n",
    "N = 4\n",
    "A = [1, 2, 3, 4]\n",
    "B = [4, 3, 2, 1]\n",
    "C = [5, 6, 7, 8]\n",
    "X = 5\n",
    "Y = 6\n",
    "print(solve(N, A, B, C, X, Y))"
   ]
  },
  {
   "cell_type": "code",
   "execution_count": null,
   "metadata": {},
   "outputs": [],
   "source": [
    "def solve(N, A, B, C, X, Y):\n",
    "    INF = float('inf')\n",
    "    dp = [[INF] * (Y + 1) for _ in range(X + 1)]\n",
    "    dp[0][0] = 0  \n",
    "    for h in range(X + 1):\n",
    "        for w in range(Y + 1):\n",
    "            if dp[h][w] == INF:\n",
    "                continue  \n",
    "            for i in range(N):\n",
    "                a = A[i]\n",
    "                b = B[i]\n",
    "                c = C[i]\n",
    "                new_h = min(h + a, X)\n",
    "                new_w = w + b\n",
    "                if new_w > Y:\n",
    "                    continue \n",
    "                if dp[new_h][new_w] > dp[h][w] + c:\n",
    "                    dp[new_h][new_w] = dp[h][w] + c\n",
    "    \n",
    "    min_cost = INF\n",
    "    for w in range(Y + 1):\n",
    "        if dp[X][w] < min_cost:\n",
    "            min_cost = dp[X][w]\n",
    "    return min_cost"
   ]
  },
  {
   "cell_type": "code",
   "execution_count": 38,
   "metadata": {},
   "outputs": [
    {
     "name": "stdout",
     "output_type": "stream",
     "text": [
      "13\n"
     ]
    }
   ],
   "source": [
    "def solve(N, A, B, C, X, Y):\n",
    "    INF = float('inf')\n",
    "    dp = [[INF] * (Y + 1) for _ in range(X + 1)]\n",
    "    dp[0][0] = 0  \n",
    "    for h in range(X + 1):\n",
    "        for w in range(Y + 1):\n",
    "            if dp[h][w] == INF:\n",
    "                continue  \n",
    "            for i in range(N):\n",
    "                a = A[i]\n",
    "                b = B[i]\n",
    "                c = C[i]\n",
    "                new_h = min(h + a, X)\n",
    "                new_w = w + b\n",
    "                if new_w > Y:\n",
    "                    continue  \n",
    "                \n",
    "                if dp[new_h][new_w] > dp[h][w] + c:\n",
    "                    dp[new_h][new_w] = dp[h][w] + c\n",
    "    \n",
    "    min_cost = INF\n",
    "    for w in range(Y + 1):\n",
    "        if dp[X][w] < min_cost:\n",
    "            min_cost = dp[X][w]\n",
    "    return min_cost\n",
    "N = 4\n",
    "A = [1, 2, 3, 4]\n",
    "B = [4, 3, 2, 1]\n",
    "C = [5, 6, 7, 8]\n",
    "X = 5\n",
    "Y = 6\n",
    "\n",
    "out_ = solve(N, A, B, C, X, Y)\n",
    "\n",
    "print(out_)"
   ]
  },
  {
   "cell_type": "code",
   "execution_count": null,
   "metadata": {},
   "outputs": [],
   "source": []
  }
 ],
 "metadata": {
  "kernelspec": {
   "display_name": ".venv",
   "language": "python",
   "name": "python3"
  },
  "language_info": {
   "codemirror_mode": {
    "name": "ipython",
    "version": 3
   },
   "file_extension": ".py",
   "mimetype": "text/x-python",
   "name": "python",
   "nbconvert_exporter": "python",
   "pygments_lexer": "ipython3",
   "version": "3.12.3"
  }
 },
 "nbformat": 4,
 "nbformat_minor": 2
}
