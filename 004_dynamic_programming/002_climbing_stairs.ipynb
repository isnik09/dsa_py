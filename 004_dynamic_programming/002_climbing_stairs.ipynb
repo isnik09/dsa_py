{
 "cells": [
  {
   "cell_type": "markdown",
   "metadata": {},
   "source": [
    "# Question -> Climbing Staircase\n",
    "You are climb a staircase. It takes n steps to reach the top. \n",
    "Each time you can either climb 1 or 2 steps. In how many distinct ways can you climb to the top? "
   ]
  },
  {
   "cell_type": "markdown",
   "metadata": {},
   "source": [
    "## Test Cases \n",
    "- Input \n",
    "  - 2\n",
    "- Output\n",
    "  - 2 \n",
    "    - 1 step + 1 step \n",
    "            \n",
    "            or  \n",
    "    - 2 steps"
   ]
  },
  {
   "cell_type": "code",
   "execution_count": 3,
   "metadata": {},
   "outputs": [
    {
     "name": "stdout",
     "output_type": "stream",
     "text": [
      "8\n"
     ]
    }
   ],
   "source": [
    "def climbing_stairs(n): \n",
    "    if n<=2: \n",
    "        return n \n",
    "    def helper(first, second, n , current): \n",
    "        next = first + second\n",
    "        if current==n: \n",
    "            return next\n",
    "        return helper(second, next, n, current+1)\n",
    "    return helper(1,2,n,3)\n",
    "\n",
    "print(climbing_stairs(5))"
   ]
  },
  {
   "cell_type": "code",
   "execution_count": null,
   "metadata": {},
   "outputs": [],
   "source": []
  }
 ],
 "metadata": {
  "kernelspec": {
   "display_name": ".venv",
   "language": "python",
   "name": "python3"
  },
  "language_info": {
   "codemirror_mode": {
    "name": "ipython",
    "version": 3
   },
   "file_extension": ".py",
   "mimetype": "text/x-python",
   "name": "python",
   "nbconvert_exporter": "python",
   "pygments_lexer": "ipython3",
   "version": "3.12.3"
  }
 },
 "nbformat": 4,
 "nbformat_minor": 2
}
