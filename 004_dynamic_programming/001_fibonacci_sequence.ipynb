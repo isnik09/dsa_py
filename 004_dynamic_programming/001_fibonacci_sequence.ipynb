{
 "cells": [
  {
   "cell_type": "code",
   "execution_count": null,
   "metadata": {},
   "outputs": [
    {
     "data": {
      "text/plain": [
       "(0, 1, 1, 2, 3, 5, 8, 13, 21, Ellipsis)"
      ]
     },
     "execution_count": 1,
     "metadata": {},
     "output_type": "execute_result"
    }
   ],
   "source": []
  },
  {
   "cell_type": "markdown",
   "metadata": {},
   "source": [
    "# Fibonacci Series\n",
    "\n",
    "## Test Cases \n",
    "0, 1, 1, 2, 3, 5, 8, 13, 21, ...\n",
    "\n",
    "\n",
    "It has both optimal sub-structure and overlapping sub-problems, so it can be solved with Dynamic programming...\n",
    "\n",
    "- 1. Recursion\n",
    "- 2. Memorization / Top Down approach\n",
    "- 3. Tabulation / Bottom up approach\n",
    "- 4. Space optimization"
   ]
  },
  {
   "cell_type": "markdown",
   "metadata": {},
   "source": [
    "# Complexity Analysis\n",
    "- Time Complexity\n",
    "  - $O(n^2)$\n",
    "- Space Complexity\n",
    "  - O$(n)$"
   ]
  },
  {
   "cell_type": "code",
   "execution_count": null,
   "metadata": {},
   "outputs": [
    {
     "name": "stdout",
     "output_type": "stream",
     "text": [
      "[10, 9, 8, 7, 6, 5, 4, 3, 2, 2, 3, 2, 4, 3, 2, 2, 5, 4, 3, 2, 2, 3, 2, 6, 5, 4, 3, 2, 2, 3, 2, 4, 3, 2, 2, 7, 6, 5, 4, 3, 2, 2, 3, 2, 4, 3, 2, 2, 5, 4, 3, 2, 2, 3, 2, 8, 7, 6, 5, 4, 3, 2, 2, 3, 2, 4, 3, 2, 2, 5, 4, 3, 2, 2, 3, 2, 6, 5, 4, 3, 2, 2, 3, 2, 4, 3, 2, 2]\n",
      "55 None\n"
     ]
    }
   ],
   "source": [
    "def fibonacci(n): \n",
    "    if n<=1: \n",
    "        return n \n",
    "    else:  \n",
    "        return fibonacci(n-1) + fibonacci(n-2)\n",
    "    \n",
    "    \n",
    "print(fibonacci(10),print(ans))"
   ]
  },
  {
   "cell_type": "code",
   "execution_count": null,
   "metadata": {},
   "outputs": [],
   "source": []
  }
 ],
 "metadata": {
  "kernelspec": {
   "display_name": ".venv",
   "language": "python",
   "name": "python3"
  },
  "language_info": {
   "codemirror_mode": {
    "name": "ipython",
    "version": 3
   },
   "file_extension": ".py",
   "mimetype": "text/x-python",
   "name": "python",
   "nbconvert_exporter": "python",
   "pygments_lexer": "ipython3",
   "version": "3.12.3"
  }
 },
 "nbformat": 4,
 "nbformat_minor": 2
}
