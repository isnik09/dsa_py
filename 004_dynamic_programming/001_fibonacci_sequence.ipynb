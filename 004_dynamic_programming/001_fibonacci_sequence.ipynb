{
 "cells": [
  {
   "cell_type": "code",
   "execution_count": null,
   "metadata": {},
   "outputs": [
    {
     "data": {
      "text/plain": [
       "(0, 1, 1, 2, 3, 5, 8, 13, 21, Ellipsis)"
      ]
     },
     "execution_count": 1,
     "metadata": {},
     "output_type": "execute_result"
    }
   ],
   "source": []
  },
  {
   "cell_type": "markdown",
   "metadata": {},
   "source": [
    "# Fibonacci Series\n",
    "\n",
    "## Test Cases \n",
    "0, 1, 1, 2, 3, 5, 8, 13, 21, ...\n",
    "\n",
    "\n",
    "It has both optimal sub-structure and overlapping sub-problems, so it can be solved with Dynamic programming...\n",
    "\n",
    "- 1. Recursion\n",
    "- 2. Memorization / Top Down approach\n",
    "- 3. Tabulation / Bottom up approach\n",
    "- 4. Space optimization"
   ]
  },
  {
   "cell_type": "markdown",
   "metadata": {},
   "source": [
    "# Recursion "
   ]
  },
  {
   "cell_type": "markdown",
   "metadata": {},
   "source": [
    "# Complexity Analysis\n",
    "- Time Complexity\n",
    "  - $O(n^2)$\n",
    "- Space Complexity\n",
    "  - O$(n)$"
   ]
  },
  {
   "cell_type": "code",
   "execution_count": 11,
   "metadata": {},
   "outputs": [
    {
     "name": "stdout",
     "output_type": "stream",
     "text": [
      "55\n"
     ]
    }
   ],
   "source": [
    "def fibonacci(n): \n",
    "    if n<=1: \n",
    "        return n \n",
    "    else:  \n",
    "        return fibonacci(n-1) + fibonacci(n-2)\n",
    "      \n",
    "print(fibonacci(10))"
   ]
  },
  {
   "cell_type": "markdown",
   "metadata": {},
   "source": [
    "# Memorization Approach"
   ]
  },
  {
   "cell_type": "markdown",
   "metadata": {},
   "source": [
    "# Complexity\n",
    "- Time Complexity\n",
    "  - $O(n)$\n",
    "- Space Complexity\n",
    "  - $O(n)$"
   ]
  },
  {
   "cell_type": "code",
   "execution_count": 12,
   "metadata": {},
   "outputs": [
    {
     "name": "stdout",
     "output_type": "stream",
     "text": [
      "55\n"
     ]
    }
   ],
   "source": [
    "def fibonacci(n , hash_table = { 0:0, 1:1}) : \n",
    "    if n in hash_table: \n",
    "        return hash_table[n]\n",
    "    else: \n",
    "        hash_table[n] = fibonacci(n-1, hash_table) + fibonacci(n-2, hash_table)\n",
    "        return hash_table[n]\n",
    "\n",
    "print(fibonacci(10))"
   ]
  },
  {
   "cell_type": "markdown",
   "metadata": {},
   "source": [
    "# Tabulation (Bottom Up Approach)"
   ]
  },
  {
   "cell_type": "markdown",
   "metadata": {},
   "source": [
    "# Complexity\n",
    "- Time Complexity\n",
    "  - $O(n)$\n",
    "- Space Complexity\n",
    "  - $O(n)$"
   ]
  },
  {
   "cell_type": "code",
   "execution_count": 14,
   "metadata": {},
   "outputs": [
    {
     "name": "stdout",
     "output_type": "stream",
     "text": [
      "55\n"
     ]
    }
   ],
   "source": [
    "def fibonacci(n):\n",
    "    dp_arr = [0]*(n+1) \n",
    "    if n>0 : \n",
    "        dp_arr[1] = 1\n",
    "\n",
    "    count = 1 \n",
    "    while(count<n): \n",
    "        count+=1\n",
    "        dp_arr[count] = dp_arr[count-1] + dp_arr[count -2]\n",
    "    return dp_arr[n]\n",
    "print(fibonacci(10))\n"
   ]
  },
  {
   "cell_type": "markdown",
   "metadata": {},
   "source": [
    "# Space Optimized Bottom Up approach "
   ]
  },
  {
   "cell_type": "markdown",
   "metadata": {},
   "source": [
    "# Complexity\n",
    "- Time Complexity\n",
    "  - $O(n)$\n",
    "- Space Complexity\n",
    "  - $O(1)$\n",
    "    - Because we are only using 3 variables..."
   ]
  },
  {
   "cell_type": "code",
   "execution_count": 15,
   "metadata": {},
   "outputs": [
    {
     "name": "stdout",
     "output_type": "stream",
     "text": [
      "55\n"
     ]
    }
   ],
   "source": [
    "def fibonacci(n): \n",
    "    if n<=1: \n",
    "        return n\n",
    "    prev = 0\n",
    "    curr = 1 \n",
    "    counter = 1 \n",
    "    while counter < n: \n",
    "        next = prev + curr\n",
    "        counter +=1\n",
    "        prev = curr \n",
    "        curr = next \n",
    "    return curr\n",
    "print(fibonacci(10))\n",
    "\n"
   ]
  },
  {
   "cell_type": "code",
   "execution_count": null,
   "metadata": {},
   "outputs": [],
   "source": []
  }
 ],
 "metadata": {
  "kernelspec": {
   "display_name": ".venv",
   "language": "python",
   "name": "python3"
  },
  "language_info": {
   "codemirror_mode": {
    "name": "ipython",
    "version": 3
   },
   "file_extension": ".py",
   "mimetype": "text/x-python",
   "name": "python",
   "nbconvert_exporter": "python",
   "pygments_lexer": "ipython3",
   "version": "3.12.3"
  }
 },
 "nbformat": 4,
 "nbformat_minor": 2
}
